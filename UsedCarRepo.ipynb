{
  "nbformat": 4,
  "nbformat_minor": 0,
  "metadata": {
    "colab": {
      "name": "UsedCarRepo.ipynb",
      "provenance": [],
      "collapsed_sections": [],
      "machine_shape": "hm",
      "include_colab_link": true
    },
    "kernelspec": {
      "name": "python3",
      "display_name": "Python 3"
    },
    "accelerator": "GPU"
  },
  "cells": [
    {
      "cell_type": "markdown",
      "metadata": {
        "id": "view-in-github",
        "colab_type": "text"
      },
      "source": [
        "<a href=\"https://colab.research.google.com/github/danialaqil/usedCarRepo/blob/master/UsedCarRepo.ipynb\" target=\"_parent\"><img src=\"https://colab.research.google.com/assets/colab-badge.svg\" alt=\"Open In Colab\"/></a>"
      ]
    },
    {
      "cell_type": "markdown",
      "metadata": {
        "id": "b_a6yYWm6S6f",
        "colab_type": "text"
      },
      "source": [
        "# **Predict used car prices on craigslist based on features such as brand, colour, make, odometer, etc.**"
      ]
    },
    {
      "cell_type": "markdown",
      "metadata": {
        "id": "PSGBLao98esB",
        "colab_type": "text"
      },
      "source": [
        "Firstly, import all the libraries required"
      ]
    },
    {
      "cell_type": "code",
      "metadata": {
        "id": "WBHE0s3jCfWV",
        "colab_type": "code",
        "colab": {}
      },
      "source": [
        "import pandas as pd\n",
        "import gspread\n",
        "import requests \n",
        "import io\n",
        "import matplotlib.pyplot as plt\n",
        "import scipy\n",
        "import numpy as np\n",
        "from pydrive.auth import GoogleAuth\n",
        "from pydrive.drive import GoogleDrive\n",
        "from google.colab import auth\n",
        "from oauth2client.client import GoogleCredentials\n",
        "auth.authenticate_user()\n",
        "gauth = GoogleAuth()\n",
        "gauth.credentials = GoogleCredentials.get_application_default()\n",
        "drive = GoogleDrive(gauth)\n",
        "!pip install -q --upgrade ipython==5.5.0\n",
        "!pip install -q --upgrade ipykernel==4.6.0"
      ],
      "execution_count": 0,
      "outputs": []
    },
    {
      "cell_type": "code",
      "metadata": {
        "id": "PpaSc4tlF7l_",
        "colab_type": "code",
        "outputId": "114eaa75-7b00-4004-bc2e-143624cbce84",
        "colab": {
          "base_uri": "https://localhost:8080/",
          "height": 52
        }
      },
      "source": [
        "import logging\n",
        "logging.getLogger('googleapiclient.discovery_cache').setLevel(logging.ERROR)\n",
        "\n",
        "# link for google drive link with csv: https://drive.google.com/drive/folders/aaa\n",
        "# therefore the id of the csv is: aaa\n",
        "\n",
        "file_list = drive.ListFile({'q': \"'aaa' in parents and trashed=false\"}).GetList()\n",
        "for file1 in file_list:\n",
        "  print('title: %s, id: %s' % (file1['title'], file1['id']))\n",
        "  "
      ],
      "execution_count": 0,
      "outputs": [
        {
          "output_type": "stream",
          "text": [
            "title: craigslistVehiclesTiny.csv, id: 1SpJ2TbaIQMPwgiqDOshUjggG__OKRpzU\n",
            "title: craigslistVehicles.csv, id: 1H1sKAweN_DrEgTXi4rYvsMtLmjqtt5By\n"
          ],
          "name": "stdout"
        }
      ]
    },
    {
      "cell_type": "code",
      "metadata": {
        "id": "q1PQPz1UU45D",
        "colab_type": "code",
        "colab": {}
      },
      "source": [
        "# the link for the csv file is: https://drive.google.com/open?id=1H1sKAweN_DrEgTXi4rYvsMtLmjqtt5By\n",
        "# the id for the csv file is:# the link for the csv file is: 1H1sKAweN_DrEgTXi4rYvsMtLmjqtt5By\n",
        "\n",
        "data_downloaded = drive.CreateFile({'id': 'bbb'})\n",
        "data_downloaded.GetContentFile('craigslistVehicles.csv')"
      ],
      "execution_count": 0,
      "outputs": []
    },
    {
      "cell_type": "markdown",
      "metadata": {
        "id": "27eaaHeu8jhg",
        "colab_type": "text"
      },
      "source": [
        "Read CSV and load into 'data'"
      ]
    },
    {
      "cell_type": "code",
      "metadata": {
        "id": "sCRIjIPCZkE3",
        "colab_type": "code",
        "outputId": "ba7aa8e0-6c75-40ad-a644-1ee0e85eb56e",
        "colab": {
          "base_uri": "https://localhost:8080/",
          "height": 313
        }
      },
      "source": [
        "data = pd.read_csv('craigslistVehicles.csv', low_memory=False, lineterminator ='\\n')\n",
        "data.head()"
      ],
      "execution_count": 0,
      "outputs": [
        {
          "output_type": "execute_result",
          "data": {
            "text/html": [
              "<div>\n",
              "<style scoped>\n",
              "    .dataframe tbody tr th:only-of-type {\n",
              "        vertical-align: middle;\n",
              "    }\n",
              "\n",
              "    .dataframe tbody tr th {\n",
              "        vertical-align: top;\n",
              "    }\n",
              "\n",
              "    .dataframe thead th {\n",
              "        text-align: right;\n",
              "    }\n",
              "</style>\n",
              "<table border=\"1\" class=\"dataframe\">\n",
              "  <thead>\n",
              "    <tr style=\"text-align: right;\">\n",
              "      <th></th>\n",
              "      <th>url</th>\n",
              "      <th>city</th>\n",
              "      <th>city_url</th>\n",
              "      <th>price</th>\n",
              "      <th>year</th>\n",
              "      <th>manufacturer</th>\n",
              "      <th>make</th>\n",
              "      <th>condition</th>\n",
              "      <th>cylinders</th>\n",
              "      <th>fuel</th>\n",
              "      <th>odometer</th>\n",
              "      <th>title_status</th>\n",
              "      <th>transmission</th>\n",
              "      <th>VIN</th>\n",
              "      <th>drive</th>\n",
              "      <th>size</th>\n",
              "      <th>type</th>\n",
              "      <th>paint_color</th>\n",
              "      <th>image_url</th>\n",
              "      <th>desc</th>\n",
              "      <th>lat</th>\n",
              "      <th>long</th>\n",
              "    </tr>\n",
              "  </thead>\n",
              "  <tbody>\n",
              "    <tr>\n",
              "      <th>0</th>\n",
              "      <td>https://abilene.craigslist.org/cto/d/aspermont...</td>\n",
              "      <td>abilene, TX</td>\n",
              "      <td>https://abilene.craigslist.org</td>\n",
              "      <td>9000</td>\n",
              "      <td>2009.0</td>\n",
              "      <td>chevrolet</td>\n",
              "      <td>suburban lt2</td>\n",
              "      <td>good</td>\n",
              "      <td>8 cylinders</td>\n",
              "      <td>gas</td>\n",
              "      <td>217743.0</td>\n",
              "      <td>clean</td>\n",
              "      <td>automatic</td>\n",
              "      <td>1GFNC26099R211276</td>\n",
              "      <td>rwd</td>\n",
              "      <td>full-size</td>\n",
              "      <td>SUV</td>\n",
              "      <td>white</td>\n",
              "      <td>https://images.craigslist.org/00909_5P6f1E6zHl...</td>\n",
              "      <td>2WD 1/2 ton\\nLeather Captains Chairs\\nIn good ...</td>\n",
              "      <td>33.130100</td>\n",
              "      <td>-100.234400</td>\n",
              "    </tr>\n",
              "    <tr>\n",
              "      <th>1</th>\n",
              "      <td>https://abilene.craigslist.org/ctd/d/liberty-h...</td>\n",
              "      <td>abilene, TX</td>\n",
              "      <td>https://abilene.craigslist.org</td>\n",
              "      <td>31999</td>\n",
              "      <td>2012.0</td>\n",
              "      <td>ram</td>\n",
              "      <td>2500</td>\n",
              "      <td>NaN</td>\n",
              "      <td>NaN</td>\n",
              "      <td>diesel</td>\n",
              "      <td>NaN</td>\n",
              "      <td>clean</td>\n",
              "      <td>automatic</td>\n",
              "      <td>NaN</td>\n",
              "      <td>NaN</td>\n",
              "      <td>NaN</td>\n",
              "      <td>NaN</td>\n",
              "      <td>NaN</td>\n",
              "      <td>https://images.craigslist.org/00u0u_24XW8uhLYP...</td>\n",
              "      <td>www.GETADIESEL.com\\n2012 RAM 2500 SLT 4X4 MEGA...</td>\n",
              "      <td>30.648368</td>\n",
              "      <td>-97.862949</td>\n",
              "    </tr>\n",
              "    <tr>\n",
              "      <th>2</th>\n",
              "      <td>https://abilene.craigslist.org/ctd/d/liberty-h...</td>\n",
              "      <td>abilene, TX</td>\n",
              "      <td>https://abilene.craigslist.org</td>\n",
              "      <td>16990</td>\n",
              "      <td>2003.0</td>\n",
              "      <td>ram</td>\n",
              "      <td>3500</td>\n",
              "      <td>NaN</td>\n",
              "      <td>NaN</td>\n",
              "      <td>diesel</td>\n",
              "      <td>NaN</td>\n",
              "      <td>clean</td>\n",
              "      <td>manual</td>\n",
              "      <td>NaN</td>\n",
              "      <td>NaN</td>\n",
              "      <td>NaN</td>\n",
              "      <td>NaN</td>\n",
              "      <td>NaN</td>\n",
              "      <td>https://images.craigslist.org/00l0l_H1UKTJ4sTI...</td>\n",
              "      <td>www.GETADIESEL.com\\n2003 DODGE RAM 3500 LARAMI...</td>\n",
              "      <td>30.648516</td>\n",
              "      <td>-97.862434</td>\n",
              "    </tr>\n",
              "    <tr>\n",
              "      <th>3</th>\n",
              "      <td>https://abilene.craigslist.org/cto/d/merkel-20...</td>\n",
              "      <td>abilene, TX</td>\n",
              "      <td>https://abilene.craigslist.org</td>\n",
              "      <td>6000</td>\n",
              "      <td>2002.0</td>\n",
              "      <td>gmc</td>\n",
              "      <td>sierra 1500</td>\n",
              "      <td>good</td>\n",
              "      <td>8 cylinders</td>\n",
              "      <td>gas</td>\n",
              "      <td>195000.0</td>\n",
              "      <td>clean</td>\n",
              "      <td>automatic</td>\n",
              "      <td>NaN</td>\n",
              "      <td>4wd</td>\n",
              "      <td>NaN</td>\n",
              "      <td>pickup</td>\n",
              "      <td>white</td>\n",
              "      <td>https://images.craigslist.org/00M0M_2wKzc7dKLU...</td>\n",
              "      <td>2002 GMC Sierra Extended Cab Truck For Sale! R...</td>\n",
              "      <td>32.444400</td>\n",
              "      <td>-99.992400</td>\n",
              "    </tr>\n",
              "    <tr>\n",
              "      <th>4</th>\n",
              "      <td>https://abilene.craigslist.org/cto/d/breckenri...</td>\n",
              "      <td>abilene, TX</td>\n",
              "      <td>https://abilene.craigslist.org</td>\n",
              "      <td>37000</td>\n",
              "      <td>2012.0</td>\n",
              "      <td>chevrolet</td>\n",
              "      <td>3500</td>\n",
              "      <td>excellent</td>\n",
              "      <td>8 cylinders</td>\n",
              "      <td>diesel</td>\n",
              "      <td>178000.0</td>\n",
              "      <td>clean</td>\n",
              "      <td>automatic</td>\n",
              "      <td>NaN</td>\n",
              "      <td>4wd</td>\n",
              "      <td>full-size</td>\n",
              "      <td>pickup</td>\n",
              "      <td>silver</td>\n",
              "      <td>https://images.craigslist.org/00r0r_eW1YWlKfCG...</td>\n",
              "      <td>2012 Chevrolet 3500 178k miles, runs and drive...</td>\n",
              "      <td>32.781689</td>\n",
              "      <td>-98.942248</td>\n",
              "    </tr>\n",
              "  </tbody>\n",
              "</table>\n",
              "</div>"
            ],
            "text/plain": [
              "                                                 url         city  \\\n",
              "0  https://abilene.craigslist.org/cto/d/aspermont...  abilene, TX   \n",
              "1  https://abilene.craigslist.org/ctd/d/liberty-h...  abilene, TX   \n",
              "2  https://abilene.craigslist.org/ctd/d/liberty-h...  abilene, TX   \n",
              "3  https://abilene.craigslist.org/cto/d/merkel-20...  abilene, TX   \n",
              "4  https://abilene.craigslist.org/cto/d/breckenri...  abilene, TX   \n",
              "\n",
              "                         city_url  price    year manufacturer          make  \\\n",
              "0  https://abilene.craigslist.org   9000  2009.0    chevrolet  suburban lt2   \n",
              "1  https://abilene.craigslist.org  31999  2012.0          ram          2500   \n",
              "2  https://abilene.craigslist.org  16990  2003.0          ram          3500   \n",
              "3  https://abilene.craigslist.org   6000  2002.0          gmc   sierra 1500   \n",
              "4  https://abilene.craigslist.org  37000  2012.0    chevrolet          3500   \n",
              "\n",
              "   condition    cylinders    fuel  odometer title_status transmission  \\\n",
              "0       good  8 cylinders     gas  217743.0        clean    automatic   \n",
              "1        NaN          NaN  diesel       NaN        clean    automatic   \n",
              "2        NaN          NaN  diesel       NaN        clean       manual   \n",
              "3       good  8 cylinders     gas  195000.0        clean    automatic   \n",
              "4  excellent  8 cylinders  diesel  178000.0        clean    automatic   \n",
              "\n",
              "                 VIN drive       size    type paint_color  \\\n",
              "0  1GFNC26099R211276   rwd  full-size     SUV       white   \n",
              "1                NaN   NaN        NaN     NaN         NaN   \n",
              "2                NaN   NaN        NaN     NaN         NaN   \n",
              "3                NaN   4wd        NaN  pickup       white   \n",
              "4                NaN   4wd  full-size  pickup      silver   \n",
              "\n",
              "                                           image_url  \\\n",
              "0  https://images.craigslist.org/00909_5P6f1E6zHl...   \n",
              "1  https://images.craigslist.org/00u0u_24XW8uhLYP...   \n",
              "2  https://images.craigslist.org/00l0l_H1UKTJ4sTI...   \n",
              "3  https://images.craigslist.org/00M0M_2wKzc7dKLU...   \n",
              "4  https://images.craigslist.org/00r0r_eW1YWlKfCG...   \n",
              "\n",
              "                                                desc        lat        long  \n",
              "0  2WD 1/2 ton\\nLeather Captains Chairs\\nIn good ...  33.130100 -100.234400  \n",
              "1  www.GETADIESEL.com\\n2012 RAM 2500 SLT 4X4 MEGA...  30.648368  -97.862949  \n",
              "2  www.GETADIESEL.com\\n2003 DODGE RAM 3500 LARAMI...  30.648516  -97.862434  \n",
              "3  2002 GMC Sierra Extended Cab Truck For Sale! R...  32.444400  -99.992400  \n",
              "4  2012 Chevrolet 3500 178k miles, runs and drive...  32.781689  -98.942248  "
            ]
          },
          "metadata": {
            "tags": []
          },
          "execution_count": 123
        }
      ]
    },
    {
      "cell_type": "markdown",
      "metadata": {
        "id": "3w-IUBjn-PDz",
        "colab_type": "text"
      },
      "source": [
        "Use features year, manufacturer, make, condition, cylinders, fuel, odometer, transmission, type"
      ]
    },
    {
      "cell_type": "code",
      "metadata": {
        "id": "vwcTBNLW-JJy",
        "colab_type": "code",
        "colab": {}
      },
      "source": [
        "#year\n",
        "a = data.year\n",
        "\n",
        "#manufacturer\n",
        "b = data.manufacturer\n",
        "\n",
        "#make\n",
        "c = data.make\n",
        "\n",
        "#condition\n",
        "d = data.condition\n",
        "\n",
        "#cylinders\n",
        "e = data.cylinders\n",
        "\n",
        "#fuel\n",
        "f = data.fuel\n",
        "\n",
        "#odometer\n",
        "g = data.odometer\n",
        "\n",
        "#transmission\n",
        "h = data.transmission\n",
        "\n",
        "#type\n",
        "i = data.type\n",
        "\n",
        "#price\n",
        "j = data.price\n"
      ],
      "execution_count": 0,
      "outputs": []
    },
    {
      "cell_type": "markdown",
      "metadata": {
        "id": "Hii5-s8B-agW",
        "colab_type": "text"
      },
      "source": [
        "## **Data Analysis**"
      ]
    },
    {
      "cell_type": "code",
      "metadata": {
        "id": "VOtBJBzaGxXD",
        "colab_type": "code",
        "outputId": "672f87f9-f342-4e85-b618-868c20a60d63",
        "colab": {
          "base_uri": "https://localhost:8080/",
          "height": 139
        }
      },
      "source": [
        "# Minimum price of the data\n",
        "minimum_price = np.amin(j)\n",
        "\n",
        "# Maximum price of the data\n",
        "maximum_price = np.amax(j)\n",
        "\n",
        "# Mean price of the data\n",
        "mean_price = np.mean(j)\n",
        "\n",
        "# Median price of the data\n",
        "median_price = np.median(j)\n",
        "\n",
        "# Standard deviation of prices of the data\n",
        "std_price = np.std(j)\n",
        "\n",
        "# Show the calculated statistics\n",
        "print(\"Statistics for Used Cars dataset:\\n\")\n",
        "print(\"Minimum price: ${}\".format(minimum_price)) \n",
        "print(\"Maximum price: ${}\".format(maximum_price))\n",
        "print(\"Mean price: ${}\".format(mean_price))\n",
        "print(\"Median price ${}\".format(median_price))\n",
        "print(\"Standard deviation of prices: ${}\".format(std_price))"
      ],
      "execution_count": 0,
      "outputs": [
        {
          "output_type": "stream",
          "text": [
            "Statistics for Used Cars dataset:\n",
            "\n",
            "Minimum price: $0\n",
            "Maximum price: $3787876818\n",
            "Mean price: $93987.72793301266\n",
            "Median price $8988.0\n",
            "Standard deviation of prices: $12427606.707829678\n"
          ],
          "name": "stdout"
        }
      ]
    },
    {
      "cell_type": "code",
      "metadata": {
        "id": "BVvEmGKUGHFm",
        "colab_type": "code",
        "outputId": "bfbfafb4-e61e-4e18-e661-d2d9633580da",
        "colab": {
          "base_uri": "https://localhost:8080/",
          "height": 1000
        }
      },
      "source": [
        "print(data.loc[data['price'] == 0])"
      ],
      "execution_count": 0,
      "outputs": [
        {
          "output_type": "stream",
          "text": [
            "                                                      url        city  \\\n",
            "63      https://albanyga.craigslist.org/ctd/d/tifton-2...  albany, GA   \n",
            "64      https://albanyga.craigslist.org/ctd/d/tifton-2...  albany, GA   \n",
            "65      https://albanyga.craigslist.org/ctd/d/tifton-2...  albany, GA   \n",
            "66      https://albanyga.craigslist.org/ctd/d/tifton-2...  albany, GA   \n",
            "68      https://albanyga.craigslist.org/ctd/d/tifton-2...  albany, GA   \n",
            "...                                                   ...         ...   \n",
            "550112  https://yuma.craigslist.org/ctd/d/seeley-2016-...    yuma, AZ   \n",
            "550113  https://yuma.craigslist.org/ctd/d/seeley-2019-...    yuma, AZ   \n",
            "550114  https://yuma.craigslist.org/ctd/d/vista-2017-c...    yuma, AZ   \n",
            "550116  https://yuma.craigslist.org/ctd/d/seeley-2016-...    yuma, AZ   \n",
            "550117  https://yuma.craigslist.org/ctd/d/seeley-2018-...    yuma, AZ   \n",
            "\n",
            "                               city_url  price    year manufacturer  \\\n",
            "63      https://albanyga.craigslist.org      0  2018.0       nissan   \n",
            "64      https://albanyga.craigslist.org      0  2014.0          ram   \n",
            "65      https://albanyga.craigslist.org      0  2016.0         ford   \n",
            "66      https://albanyga.craigslist.org      0  2016.0          gmc   \n",
            "68      https://albanyga.craigslist.org      0  2016.0   volkswagen   \n",
            "...                                 ...    ...     ...          ...   \n",
            "550112      https://yuma.craigslist.org      0  2016.0       toyota   \n",
            "550113      https://yuma.craigslist.org      0  2019.0    chevrolet   \n",
            "550114      https://yuma.craigslist.org      0  2017.0    chevrolet   \n",
            "550116      https://yuma.craigslist.org      0  2016.0        dodge   \n",
            "550117      https://yuma.craigslist.org      0  2018.0    chevrolet   \n",
            "\n",
            "                make  condition    cylinders fuel  odometer title_status  \\\n",
            "63      nv passenger  excellent  8 cylinders  gas   33526.0        clean   \n",
            "64              1500  excellent  8 cylinders  gas   83385.0        clean   \n",
            "65             f-150  excellent  6 cylinders  gas   80485.0        clean   \n",
            "66       sierra 1500  excellent  8 cylinders  gas   58757.0        clean   \n",
            "68            tiguan  excellent  4 cylinders  gas   63210.0        clean   \n",
            "...              ...        ...          ...  ...       ...          ...   \n",
            "550112        tundra  excellent  8 cylinders  gas   14562.0        clean   \n",
            "550113        camaro  excellent  6 cylinders  gas   13744.0        clean   \n",
            "550114         cruze        NaN          NaN  gas       NaN        clean   \n",
            "550116    challenger  excellent  8 cylinders  gas   18583.0        clean   \n",
            "550117         tahoe  excellent  8 cylinders  gas   31022.0        clean   \n",
            "\n",
            "       transmission                VIN drive       size   type paint_color  \\\n",
            "63        automatic  5BZAF0AA9JN850370   rwd  full-size    van      silver   \n",
            "64        automatic  1C6RR7PT8ES452092   4wd   mid-size  truck       black   \n",
            "65        automatic  1FTEW1CGXGFA15731   rwd   mid-size  truck       black   \n",
            "66        automatic  3GTU2MEC5GG286150   4wd   mid-size  truck      silver   \n",
            "68        automatic  WVGAV7AX0GW038356   fwd    compact    SUV        grey   \n",
            "...             ...                ...   ...        ...    ...         ...   \n",
            "550112    automatic  5TFEM5F14GX102507   rwd   mid-size  truck      silver   \n",
            "550113    automatic  1G1FB1RS6K0105104   rwd    compact  coupe      silver   \n",
            "550114    automatic  1G1BE5SM1H7177918   NaN    compact  sedan        blue   \n",
            "550116       manual  2C3CDZDJ3GH114478   rwd   mid-size  coupe       black   \n",
            "550117    automatic  1GNSCCKCXJR241920   rwd   mid-size    SUV      silver   \n",
            "\n",
            "                                                image_url  \\\n",
            "63      https://images.craigslist.org/00d0d_3TCKAMFJ32...   \n",
            "64      https://images.craigslist.org/00P0P_eHvSvXfPnl...   \n",
            "65      https://images.craigslist.org/00m0m_TI2JcTpVz8...   \n",
            "66      https://images.craigslist.org/00a0a_6BZhfclbhu...   \n",
            "68      https://images.craigslist.org/00B0B_2YAhOiqBP9...   \n",
            "...                                                   ...   \n",
            "550112  https://images.craigslist.org/00Q0Q_5nsQUIRRvJ...   \n",
            "550113  https://images.craigslist.org/00N0N_1w5JaoRjXR...   \n",
            "550114  https://images.craigslist.org/00I0I_7nh9DENq2N...   \n",
            "550116  https://images.craigslist.org/00O0O_gYbRSEEp1z...   \n",
            "550117  https://images.craigslist.org/00c0c_eEMtT1VYc3...   \n",
            "\n",
            "                                                     desc        lat  \\\n",
            "63      2018 Nissan NV Passenger NV3500 HD SL\\n\\n\\nâ°...  31.446310   \n",
            "64      2014 Ram 1500 Longhorn Limited\\n\\n\\nâ° Contac...  31.446310   \n",
            "65      2016 Ford F-150 XLT\\n\\n\\nâ° Contact Informati...  31.446310   \n",
            "66      2016 GMC Sierra 1500 SLE\\n\\n\\nâ° Contact Info...  31.446310   \n",
            "68      2016 Volkswagen Tiguan R-Line\\n\\n\\nâ° Contact...  31.446310   \n",
            "...                                                   ...        ...   \n",
            "550112  2016 Toyota Tundra SR5 - (Silver Sky Metallic)...  32.716000   \n",
            "550113  2019 Chevrolet Camaro 1LT - (Silver Ice Metall...  32.716000   \n",
            "550114  2017 Chevrolet Chevy Cruze LT Auto * TURBO * B...  33.192123   \n",
            "550116  2016 Dodge Challenger SRT - (Pitch Black Clear...  32.716000   \n",
            "550117  2018 Chevrolet Tahoe Premier - (Silver Ice Met...  32.716000   \n",
            "\n",
            "              long  \n",
            "63      -83.522430  \n",
            "64      -83.522430  \n",
            "65      -83.522430  \n",
            "66      -83.522430  \n",
            "68      -83.522430  \n",
            "...            ...  \n",
            "550112 -115.667650  \n",
            "550113 -115.667650  \n",
            "550114 -117.229065  \n",
            "550116 -115.667650  \n",
            "550117 -115.667650  \n",
            "\n",
            "[48708 rows x 22 columns]\n"
          ],
          "name": "stdout"
        }
      ]
    },
    {
      "cell_type": "markdown",
      "metadata": {
        "id": "VJsYzm0-3ldh",
        "colab_type": "text"
      },
      "source": [
        "## **Data Cleaning**"
      ]
    },
    {
      "cell_type": "code",
      "metadata": {
        "id": "j41ViGdfwizV",
        "colab_type": "code",
        "colab": {}
      },
      "source": [
        "#df = data.copy(deep = True)\n",
        "df = data[['year', 'manufacturer', 'make', 'condition', 'cylinders', 'fuel', 'odometer', 'transmission', 'type', 'price']].copy(deep = True)"
      ],
      "execution_count": 0,
      "outputs": []
    },
    {
      "cell_type": "code",
      "metadata": {
        "id": "dYksVUXXGwVG",
        "colab_type": "code",
        "outputId": "7f0e7753-4a1f-43d9-a981-175e5eb8c6f0",
        "colab": {
          "base_uri": "https://localhost:8080/",
          "height": 206
        }
      },
      "source": [
        "# deep copy of dataframe \n",
        "# REMOVE ALL USELESS COLUMNS (DAN)\n",
        "df.head() "
      ],
      "execution_count": 0,
      "outputs": [
        {
          "output_type": "execute_result",
          "data": {
            "text/html": [
              "<div>\n",
              "<style scoped>\n",
              "    .dataframe tbody tr th:only-of-type {\n",
              "        vertical-align: middle;\n",
              "    }\n",
              "\n",
              "    .dataframe tbody tr th {\n",
              "        vertical-align: top;\n",
              "    }\n",
              "\n",
              "    .dataframe thead th {\n",
              "        text-align: right;\n",
              "    }\n",
              "</style>\n",
              "<table border=\"1\" class=\"dataframe\">\n",
              "  <thead>\n",
              "    <tr style=\"text-align: right;\">\n",
              "      <th></th>\n",
              "      <th>year</th>\n",
              "      <th>manufacturer</th>\n",
              "      <th>make</th>\n",
              "      <th>condition</th>\n",
              "      <th>cylinders</th>\n",
              "      <th>fuel</th>\n",
              "      <th>odometer</th>\n",
              "      <th>transmission</th>\n",
              "      <th>type</th>\n",
              "      <th>price</th>\n",
              "    </tr>\n",
              "  </thead>\n",
              "  <tbody>\n",
              "    <tr>\n",
              "      <th>0</th>\n",
              "      <td>2009.0</td>\n",
              "      <td>chevrolet</td>\n",
              "      <td>suburban lt2</td>\n",
              "      <td>good</td>\n",
              "      <td>8 cylinders</td>\n",
              "      <td>gas</td>\n",
              "      <td>217743.0</td>\n",
              "      <td>automatic</td>\n",
              "      <td>SUV</td>\n",
              "      <td>9000</td>\n",
              "    </tr>\n",
              "    <tr>\n",
              "      <th>1</th>\n",
              "      <td>2012.0</td>\n",
              "      <td>ram</td>\n",
              "      <td>2500</td>\n",
              "      <td>NaN</td>\n",
              "      <td>NaN</td>\n",
              "      <td>diesel</td>\n",
              "      <td>NaN</td>\n",
              "      <td>automatic</td>\n",
              "      <td>NaN</td>\n",
              "      <td>31999</td>\n",
              "    </tr>\n",
              "    <tr>\n",
              "      <th>2</th>\n",
              "      <td>2003.0</td>\n",
              "      <td>ram</td>\n",
              "      <td>3500</td>\n",
              "      <td>NaN</td>\n",
              "      <td>NaN</td>\n",
              "      <td>diesel</td>\n",
              "      <td>NaN</td>\n",
              "      <td>manual</td>\n",
              "      <td>NaN</td>\n",
              "      <td>16990</td>\n",
              "    </tr>\n",
              "    <tr>\n",
              "      <th>3</th>\n",
              "      <td>2002.0</td>\n",
              "      <td>gmc</td>\n",
              "      <td>sierra 1500</td>\n",
              "      <td>good</td>\n",
              "      <td>8 cylinders</td>\n",
              "      <td>gas</td>\n",
              "      <td>195000.0</td>\n",
              "      <td>automatic</td>\n",
              "      <td>pickup</td>\n",
              "      <td>6000</td>\n",
              "    </tr>\n",
              "    <tr>\n",
              "      <th>4</th>\n",
              "      <td>2012.0</td>\n",
              "      <td>chevrolet</td>\n",
              "      <td>3500</td>\n",
              "      <td>excellent</td>\n",
              "      <td>8 cylinders</td>\n",
              "      <td>diesel</td>\n",
              "      <td>178000.0</td>\n",
              "      <td>automatic</td>\n",
              "      <td>pickup</td>\n",
              "      <td>37000</td>\n",
              "    </tr>\n",
              "  </tbody>\n",
              "</table>\n",
              "</div>"
            ],
            "text/plain": [
              "     year manufacturer          make  condition    cylinders    fuel  \\\n",
              "0  2009.0    chevrolet  suburban lt2       good  8 cylinders     gas   \n",
              "1  2012.0          ram          2500        NaN          NaN  diesel   \n",
              "2  2003.0          ram          3500        NaN          NaN  diesel   \n",
              "3  2002.0          gmc   sierra 1500       good  8 cylinders     gas   \n",
              "4  2012.0    chevrolet          3500  excellent  8 cylinders  diesel   \n",
              "\n",
              "   odometer transmission    type  price  \n",
              "0  217743.0    automatic     SUV   9000  \n",
              "1       NaN    automatic     NaN  31999  \n",
              "2       NaN       manual     NaN  16990  \n",
              "3  195000.0    automatic  pickup   6000  \n",
              "4  178000.0    automatic  pickup  37000  "
            ]
          },
          "metadata": {
            "tags": []
          },
          "execution_count": 128
        }
      ]
    },
    {
      "cell_type": "code",
      "metadata": {
        "id": "kshFpH1GwWTE",
        "colab_type": "code",
        "outputId": "ba8055ba-24e3-48f1-d90e-3c71d824db83",
        "colab": {
          "base_uri": "https://localhost:8080/",
          "height": 520
        }
      },
      "source": [
        "#clean the number of cylinders \n",
        "df['cylinders'] = df['cylinders'].str.replace(' cylinders', '')\n",
        "df.head(15)"
      ],
      "execution_count": 0,
      "outputs": [
        {
          "output_type": "execute_result",
          "data": {
            "text/html": [
              "<div>\n",
              "<style scoped>\n",
              "    .dataframe tbody tr th:only-of-type {\n",
              "        vertical-align: middle;\n",
              "    }\n",
              "\n",
              "    .dataframe tbody tr th {\n",
              "        vertical-align: top;\n",
              "    }\n",
              "\n",
              "    .dataframe thead th {\n",
              "        text-align: right;\n",
              "    }\n",
              "</style>\n",
              "<table border=\"1\" class=\"dataframe\">\n",
              "  <thead>\n",
              "    <tr style=\"text-align: right;\">\n",
              "      <th></th>\n",
              "      <th>year</th>\n",
              "      <th>manufacturer</th>\n",
              "      <th>make</th>\n",
              "      <th>condition</th>\n",
              "      <th>cylinders</th>\n",
              "      <th>fuel</th>\n",
              "      <th>odometer</th>\n",
              "      <th>transmission</th>\n",
              "      <th>type</th>\n",
              "      <th>price</th>\n",
              "    </tr>\n",
              "  </thead>\n",
              "  <tbody>\n",
              "    <tr>\n",
              "      <th>0</th>\n",
              "      <td>2009.0</td>\n",
              "      <td>chevrolet</td>\n",
              "      <td>suburban lt2</td>\n",
              "      <td>good</td>\n",
              "      <td>8</td>\n",
              "      <td>gas</td>\n",
              "      <td>217743.0</td>\n",
              "      <td>automatic</td>\n",
              "      <td>SUV</td>\n",
              "      <td>9000</td>\n",
              "    </tr>\n",
              "    <tr>\n",
              "      <th>1</th>\n",
              "      <td>2012.0</td>\n",
              "      <td>ram</td>\n",
              "      <td>2500</td>\n",
              "      <td>NaN</td>\n",
              "      <td>NaN</td>\n",
              "      <td>diesel</td>\n",
              "      <td>NaN</td>\n",
              "      <td>automatic</td>\n",
              "      <td>NaN</td>\n",
              "      <td>31999</td>\n",
              "    </tr>\n",
              "    <tr>\n",
              "      <th>2</th>\n",
              "      <td>2003.0</td>\n",
              "      <td>ram</td>\n",
              "      <td>3500</td>\n",
              "      <td>NaN</td>\n",
              "      <td>NaN</td>\n",
              "      <td>diesel</td>\n",
              "      <td>NaN</td>\n",
              "      <td>manual</td>\n",
              "      <td>NaN</td>\n",
              "      <td>16990</td>\n",
              "    </tr>\n",
              "    <tr>\n",
              "      <th>3</th>\n",
              "      <td>2002.0</td>\n",
              "      <td>gmc</td>\n",
              "      <td>sierra 1500</td>\n",
              "      <td>good</td>\n",
              "      <td>8</td>\n",
              "      <td>gas</td>\n",
              "      <td>195000.0</td>\n",
              "      <td>automatic</td>\n",
              "      <td>pickup</td>\n",
              "      <td>6000</td>\n",
              "    </tr>\n",
              "    <tr>\n",
              "      <th>4</th>\n",
              "      <td>2012.0</td>\n",
              "      <td>chevrolet</td>\n",
              "      <td>3500</td>\n",
              "      <td>excellent</td>\n",
              "      <td>8</td>\n",
              "      <td>diesel</td>\n",
              "      <td>178000.0</td>\n",
              "      <td>automatic</td>\n",
              "      <td>pickup</td>\n",
              "      <td>37000</td>\n",
              "    </tr>\n",
              "    <tr>\n",
              "      <th>5</th>\n",
              "      <td>2003.0</td>\n",
              "      <td>NaN</td>\n",
              "      <td>F150</td>\n",
              "      <td>fair</td>\n",
              "      <td>8</td>\n",
              "      <td>gas</td>\n",
              "      <td>269000.0</td>\n",
              "      <td>automatic</td>\n",
              "      <td>pickup</td>\n",
              "      <td>3700</td>\n",
              "    </tr>\n",
              "    <tr>\n",
              "      <th>6</th>\n",
              "      <td>2013.0</td>\n",
              "      <td>ford</td>\n",
              "      <td>f-250</td>\n",
              "      <td>NaN</td>\n",
              "      <td>8</td>\n",
              "      <td>gas</td>\n",
              "      <td>116792.0</td>\n",
              "      <td>automatic</td>\n",
              "      <td>pickup</td>\n",
              "      <td>19950</td>\n",
              "    </tr>\n",
              "    <tr>\n",
              "      <th>7</th>\n",
              "      <td>2006.0</td>\n",
              "      <td>ram</td>\n",
              "      <td>2500</td>\n",
              "      <td>NaN</td>\n",
              "      <td>NaN</td>\n",
              "      <td>diesel</td>\n",
              "      <td>NaN</td>\n",
              "      <td>manual</td>\n",
              "      <td>NaN</td>\n",
              "      <td>19999</td>\n",
              "    </tr>\n",
              "    <tr>\n",
              "      <th>8</th>\n",
              "      <td>2015.0</td>\n",
              "      <td>ford</td>\n",
              "      <td>f-350</td>\n",
              "      <td>NaN</td>\n",
              "      <td>8</td>\n",
              "      <td>diesel</td>\n",
              "      <td>77350.0</td>\n",
              "      <td>automatic</td>\n",
              "      <td>pickup</td>\n",
              "      <td>33950</td>\n",
              "    </tr>\n",
              "    <tr>\n",
              "      <th>9</th>\n",
              "      <td>2015.0</td>\n",
              "      <td>ford</td>\n",
              "      <td>f-350</td>\n",
              "      <td>NaN</td>\n",
              "      <td>8</td>\n",
              "      <td>gas</td>\n",
              "      <td>121030.0</td>\n",
              "      <td>automatic</td>\n",
              "      <td>truck</td>\n",
              "      <td>25950</td>\n",
              "    </tr>\n",
              "    <tr>\n",
              "      <th>10</th>\n",
              "      <td>2018.0</td>\n",
              "      <td>ram</td>\n",
              "      <td>5500</td>\n",
              "      <td>NaN</td>\n",
              "      <td>6</td>\n",
              "      <td>diesel</td>\n",
              "      <td>60491.0</td>\n",
              "      <td>automatic</td>\n",
              "      <td>truck</td>\n",
              "      <td>49950</td>\n",
              "    </tr>\n",
              "    <tr>\n",
              "      <th>11</th>\n",
              "      <td>1964.0</td>\n",
              "      <td>chevrolet</td>\n",
              "      <td>NaN</td>\n",
              "      <td>fair</td>\n",
              "      <td>NaN</td>\n",
              "      <td>gas</td>\n",
              "      <td>NaN</td>\n",
              "      <td>manual</td>\n",
              "      <td>NaN</td>\n",
              "      <td>2300</td>\n",
              "    </tr>\n",
              "    <tr>\n",
              "      <th>12</th>\n",
              "      <td>2010.0</td>\n",
              "      <td>cadillac</td>\n",
              "      <td>srx luxury collection</td>\n",
              "      <td>good</td>\n",
              "      <td>8</td>\n",
              "      <td>gas</td>\n",
              "      <td>140000.0</td>\n",
              "      <td>automatic</td>\n",
              "      <td>SUV</td>\n",
              "      <td>9700</td>\n",
              "    </tr>\n",
              "    <tr>\n",
              "      <th>13</th>\n",
              "      <td>2001.0</td>\n",
              "      <td>chevrolet</td>\n",
              "      <td>silverado 1500</td>\n",
              "      <td>fair</td>\n",
              "      <td>8</td>\n",
              "      <td>gas</td>\n",
              "      <td>220000.0</td>\n",
              "      <td>automatic</td>\n",
              "      <td>pickup</td>\n",
              "      <td>2500</td>\n",
              "    </tr>\n",
              "    <tr>\n",
              "      <th>14</th>\n",
              "      <td>2016.0</td>\n",
              "      <td>ford</td>\n",
              "      <td>expedition el platinum</td>\n",
              "      <td>excellent</td>\n",
              "      <td>NaN</td>\n",
              "      <td>gas</td>\n",
              "      <td>149000.0</td>\n",
              "      <td>automatic</td>\n",
              "      <td>SUV</td>\n",
              "      <td>24575</td>\n",
              "    </tr>\n",
              "  </tbody>\n",
              "</table>\n",
              "</div>"
            ],
            "text/plain": [
              "      year manufacturer                    make  condition cylinders    fuel  \\\n",
              "0   2009.0    chevrolet            suburban lt2       good         8     gas   \n",
              "1   2012.0          ram                    2500        NaN       NaN  diesel   \n",
              "2   2003.0          ram                    3500        NaN       NaN  diesel   \n",
              "3   2002.0          gmc             sierra 1500       good         8     gas   \n",
              "4   2012.0    chevrolet                    3500  excellent         8  diesel   \n",
              "5   2003.0          NaN                    F150       fair         8     gas   \n",
              "6   2013.0         ford                   f-250        NaN         8     gas   \n",
              "7   2006.0          ram                    2500        NaN       NaN  diesel   \n",
              "8   2015.0         ford                   f-350        NaN         8  diesel   \n",
              "9   2015.0         ford                   f-350        NaN         8     gas   \n",
              "10  2018.0          ram                    5500        NaN         6  diesel   \n",
              "11  1964.0    chevrolet                     NaN       fair       NaN     gas   \n",
              "12  2010.0     cadillac   srx luxury collection       good         8     gas   \n",
              "13  2001.0    chevrolet          silverado 1500       fair         8     gas   \n",
              "14  2016.0         ford  expedition el platinum  excellent       NaN     gas   \n",
              "\n",
              "    odometer transmission    type  price  \n",
              "0   217743.0    automatic     SUV   9000  \n",
              "1        NaN    automatic     NaN  31999  \n",
              "2        NaN       manual     NaN  16990  \n",
              "3   195000.0    automatic  pickup   6000  \n",
              "4   178000.0    automatic  pickup  37000  \n",
              "5   269000.0    automatic  pickup   3700  \n",
              "6   116792.0    automatic  pickup  19950  \n",
              "7        NaN       manual     NaN  19999  \n",
              "8    77350.0    automatic  pickup  33950  \n",
              "9   121030.0    automatic   truck  25950  \n",
              "10   60491.0    automatic   truck  49950  \n",
              "11       NaN       manual     NaN   2300  \n",
              "12  140000.0    automatic     SUV   9700  \n",
              "13  220000.0    automatic  pickup   2500  \n",
              "14  149000.0    automatic     SUV  24575  "
            ]
          },
          "metadata": {
            "tags": []
          },
          "execution_count": 129
        }
      ]
    },
    {
      "cell_type": "code",
      "metadata": {
        "id": "Ufb0Ie5d8nhK",
        "colab_type": "code",
        "colab": {}
      },
      "source": [
        "# remove all the price == 0 so that log values can be obtained\n",
        "df = df[(df[['price']] != 0).all(axis=1)]"
      ],
      "execution_count": 0,
      "outputs": []
    },
    {
      "cell_type": "code",
      "metadata": {
        "id": "dx7v9SgD9zF3",
        "colab_type": "code",
        "outputId": "20bfb0a0-f8a7-47eb-8736-d070f24f945b",
        "colab": {
          "base_uri": "https://localhost:8080/",
          "height": 69
        }
      },
      "source": [
        "# check if the price == 0 entries have been deleted\n",
        "print(df.loc[data['price'] == 0])"
      ],
      "execution_count": 0,
      "outputs": [
        {
          "output_type": "stream",
          "text": [
            "Empty DataFrame\n",
            "Columns: [year, manufacturer, make, condition, cylinders, fuel, odometer, transmission, type, price]\n",
            "Index: []\n"
          ],
          "name": "stdout"
        }
      ]
    },
    {
      "cell_type": "code",
      "metadata": {
        "id": "RUFvnOTN38d4",
        "colab_type": "code",
        "outputId": "908c0cf5-ca20-4c1e-d937-96d52cb39048",
        "colab": {
          "base_uri": "https://localhost:8080/",
          "height": 34
        }
      },
      "source": [
        "# to check how many entries there are\n",
        "df.shape"
      ],
      "execution_count": 0,
      "outputs": [
        {
          "output_type": "execute_result",
          "data": {
            "text/plain": [
              "(501605, 10)"
            ]
          },
          "metadata": {
            "tags": []
          },
          "execution_count": 132
        }
      ]
    },
    {
      "cell_type": "code",
      "metadata": {
        "id": "C-eB8qG49yQY",
        "colab_type": "code",
        "colab": {}
      },
      "source": [
        "# find the natural log of the price to normalise the data\n",
        "df['ln_price'] = np.log(df[\"price\"])\n",
        "df['log10_price'] = np.log10(df[\"price\"])"
      ],
      "execution_count": 0,
      "outputs": []
    },
    {
      "cell_type": "code",
      "metadata": {
        "id": "YTjSYUFK8mad",
        "colab_type": "code",
        "colab": {}
      },
      "source": [
        "#df.drop(['log value'], axis = 1, inplace = True)"
      ],
      "execution_count": 0,
      "outputs": []
    },
    {
      "cell_type": "code",
      "metadata": {
        "id": "zOUAMk9C8ACr",
        "colab_type": "code",
        "outputId": "cecf9eeb-762f-4d45-9bec-2a12cfb6b3e4",
        "colab": {
          "base_uri": "https://localhost:8080/",
          "height": 243
        }
      },
      "source": [
        "# to check datatypes of our columns \n",
        "df.dtypes"
      ],
      "execution_count": 0,
      "outputs": [
        {
          "output_type": "execute_result",
          "data": {
            "text/plain": [
              "year            float64\n",
              "manufacturer     object\n",
              "make             object\n",
              "condition        object\n",
              "cylinders        object\n",
              "fuel             object\n",
              "odometer        float64\n",
              "transmission     object\n",
              "type             object\n",
              "price             int64\n",
              "ln_price        float64\n",
              "log10_price     float64\n",
              "dtype: object"
            ]
          },
          "metadata": {
            "tags": []
          },
          "execution_count": 135
        }
      ]
    },
    {
      "cell_type": "code",
      "metadata": {
        "id": "VNAKMSvO2Boq",
        "colab_type": "code",
        "outputId": "2a6c4e9e-9fd2-449c-ac5b-817aeb8ee5af",
        "colab": {
          "base_uri": "https://localhost:8080/",
          "height": 283
        }
      },
      "source": [
        "# DO BOX AND WHISKERS PLOT TO REMOVE ALL ABNORMALY [DAN]\n",
        "df.boxplot(column =\"ln_price\")"
      ],
      "execution_count": 0,
      "outputs": [
        {
          "output_type": "execute_result",
          "data": {
            "text/plain": [
              "<matplotlib.axes._subplots.AxesSubplot at 0x7fd9dac2a9b0>"
            ]
          },
          "metadata": {
            "tags": []
          },
          "execution_count": 136
        },
        {
          "output_type": "display_data",
          "data": {
            "image/png": "[encoded data removed]",
            "text/plain": [
              "<Figure size 432x288 with 1 Axes>"
            ]
          },
          "metadata": {
            "tags": []
          }
        }
      ]
    },
    {
      "cell_type": "code",
      "metadata": {
        "id": "brrzygMyBSCz",
        "colab_type": "code",
        "outputId": "9f2e5ead-09c5-44ee-b12b-293ec892eff5",
        "colab": {
          "base_uri": "https://localhost:8080/",
          "height": 286
        }
      },
      "source": [
        "# we can see that both ln and lg of the prices result in similar amount of anomalies\n",
        "# I will proceed to continue using the log10 price. It makes sense to use base 10 because we are dealing with prices\n",
        "# we can see that the anomalies are any (log10_price) > 5 and (log10_price) < 3\n",
        "df.boxplot(column ='log10_price')"
      ],
      "execution_count": 0,
      "outputs": [
        {
          "output_type": "execute_result",
          "data": {
            "text/plain": [
              "<matplotlib.axes._subplots.AxesSubplot at 0x7fd9dabeecc0>"
            ]
          },
          "metadata": {
            "tags": []
          },
          "execution_count": 137
        },
        {
          "output_type": "display_data",
          "data": {
            "image/png": "[encoded data removed]",
            "text/plain": [
              "<Figure size 432x288 with 1 Axes>"
            ]
          },
          "metadata": {
            "tags": []
          }
        }
      ]
    },
    {
      "cell_type": "code",
      "metadata": {
        "id": "sYoH6mG1BkM5",
        "colab_type": "code",
        "colab": {}
      },
      "source": [
        "\n",
        "# remove the anomalies from the decided values from the above line\n",
        "df.drop( df[ df['log10_price'] > 5 ].index , inplace=True)\n",
        "df.drop( df[ df['log10_price'] < 3 ].index , inplace=True)\n",
        "\n",
        "#df.drop( df[ df['log10_price'] > 5.1 ].index , inplace=True)\n",
        "#df.drop( df[ df['log10_price'] < 3.1 ].index , inplace=True)"
      ],
      "execution_count": 0,
      "outputs": []
    },
    {
      "cell_type": "code",
      "metadata": {
        "id": "feGWX_nVChtW",
        "colab_type": "code",
        "outputId": "eee2f3c1-8d11-4bec-b791-684bf767775d",
        "colab": {
          "base_uri": "https://localhost:8080/",
          "height": 283
        }
      },
      "source": [
        "# now data do not have any anomalies\n",
        "df.boxplot(column ='log10_price')"
      ],
      "execution_count": 0,
      "outputs": [
        {
          "output_type": "execute_result",
          "data": {
            "text/plain": [
              "<matplotlib.axes._subplots.AxesSubplot at 0x7fd9dab4be10>"
            ]
          },
          "metadata": {
            "tags": []
          },
          "execution_count": 139
        },
        {
          "output_type": "display_data",
          "data": {
            "image/png": "[encoded data removed]",
            "text/plain": [
              "<Figure size 432x288 with 1 Axes>"
            ]
          },
          "metadata": {
            "tags": []
          }
        }
      ]
    },
    {
      "cell_type": "code",
      "metadata": {
        "id": "BkP62tGD3H9E",
        "colab_type": "code",
        "outputId": "f2be0d40-4ca0-4010-dbe0-e0473a7ab2a9",
        "colab": {
          "base_uri": "https://localhost:8080/",
          "height": 677
        }
      },
      "source": [
        "# CHECK THROUGH NaN DATA WITHIN COLUMNS, REMOVE ROWS THAT HAVE MISSING DATA > 3 COLUMNS\n",
        "df.head(20)\n"
      ],
      "execution_count": 0,
      "outputs": [
        {
          "output_type": "execute_result",
          "data": {
            "text/html": [
              "<div>\n",
              "<style scoped>\n",
              "    .dataframe tbody tr th:only-of-type {\n",
              "        vertical-align: middle;\n",
              "    }\n",
              "\n",
              "    .dataframe tbody tr th {\n",
              "        vertical-align: top;\n",
              "    }\n",
              "\n",
              "    .dataframe thead th {\n",
              "        text-align: right;\n",
              "    }\n",
              "</style>\n",
              "<table border=\"1\" class=\"dataframe\">\n",
              "  <thead>\n",
              "    <tr style=\"text-align: right;\">\n",
              "      <th></th>\n",
              "      <th>year</th>\n",
              "      <th>manufacturer</th>\n",
              "      <th>make</th>\n",
              "      <th>condition</th>\n",
              "      <th>cylinders</th>\n",
              "      <th>fuel</th>\n",
              "      <th>odometer</th>\n",
              "      <th>transmission</th>\n",
              "      <th>type</th>\n",
              "      <th>price</th>\n",
              "      <th>ln_price</th>\n",
              "      <th>log10_price</th>\n",
              "    </tr>\n",
              "  </thead>\n",
              "  <tbody>\n",
              "    <tr>\n",
              "      <th>0</th>\n",
              "      <td>2009.0</td>\n",
              "      <td>chevrolet</td>\n",
              "      <td>suburban lt2</td>\n",
              "      <td>good</td>\n",
              "      <td>8</td>\n",
              "      <td>gas</td>\n",
              "      <td>217743.0</td>\n",
              "      <td>automatic</td>\n",
              "      <td>SUV</td>\n",
              "      <td>9000</td>\n",
              "      <td>9.104980</td>\n",
              "      <td>3.954243</td>\n",
              "    </tr>\n",
              "    <tr>\n",
              "      <th>1</th>\n",
              "      <td>2012.0</td>\n",
              "      <td>ram</td>\n",
              "      <td>2500</td>\n",
              "      <td>NaN</td>\n",
              "      <td>NaN</td>\n",
              "      <td>diesel</td>\n",
              "      <td>NaN</td>\n",
              "      <td>automatic</td>\n",
              "      <td>NaN</td>\n",
              "      <td>31999</td>\n",
              "      <td>10.373460</td>\n",
              "      <td>4.505136</td>\n",
              "    </tr>\n",
              "    <tr>\n",
              "      <th>2</th>\n",
              "      <td>2003.0</td>\n",
              "      <td>ram</td>\n",
              "      <td>3500</td>\n",
              "      <td>NaN</td>\n",
              "      <td>NaN</td>\n",
              "      <td>diesel</td>\n",
              "      <td>NaN</td>\n",
              "      <td>manual</td>\n",
              "      <td>NaN</td>\n",
              "      <td>16990</td>\n",
              "      <td>9.740380</td>\n",
              "      <td>4.230193</td>\n",
              "    </tr>\n",
              "    <tr>\n",
              "      <th>3</th>\n",
              "      <td>2002.0</td>\n",
              "      <td>gmc</td>\n",
              "      <td>sierra 1500</td>\n",
              "      <td>good</td>\n",
              "      <td>8</td>\n",
              "      <td>gas</td>\n",
              "      <td>195000.0</td>\n",
              "      <td>automatic</td>\n",
              "      <td>pickup</td>\n",
              "      <td>6000</td>\n",
              "      <td>8.699515</td>\n",
              "      <td>3.778151</td>\n",
              "    </tr>\n",
              "    <tr>\n",
              "      <th>4</th>\n",
              "      <td>2012.0</td>\n",
              "      <td>chevrolet</td>\n",
              "      <td>3500</td>\n",
              "      <td>excellent</td>\n",
              "      <td>8</td>\n",
              "      <td>diesel</td>\n",
              "      <td>178000.0</td>\n",
              "      <td>automatic</td>\n",
              "      <td>pickup</td>\n",
              "      <td>37000</td>\n",
              "      <td>10.518673</td>\n",
              "      <td>4.568202</td>\n",
              "    </tr>\n",
              "    <tr>\n",
              "      <th>5</th>\n",
              "      <td>2003.0</td>\n",
              "      <td>NaN</td>\n",
              "      <td>F150</td>\n",
              "      <td>fair</td>\n",
              "      <td>8</td>\n",
              "      <td>gas</td>\n",
              "      <td>269000.0</td>\n",
              "      <td>automatic</td>\n",
              "      <td>pickup</td>\n",
              "      <td>3700</td>\n",
              "      <td>8.216088</td>\n",
              "      <td>3.568202</td>\n",
              "    </tr>\n",
              "    <tr>\n",
              "      <th>6</th>\n",
              "      <td>2013.0</td>\n",
              "      <td>ford</td>\n",
              "      <td>f-250</td>\n",
              "      <td>NaN</td>\n",
              "      <td>8</td>\n",
              "      <td>gas</td>\n",
              "      <td>116792.0</td>\n",
              "      <td>automatic</td>\n",
              "      <td>pickup</td>\n",
              "      <td>19950</td>\n",
              "      <td>9.900984</td>\n",
              "      <td>4.299943</td>\n",
              "    </tr>\n",
              "    <tr>\n",
              "      <th>7</th>\n",
              "      <td>2006.0</td>\n",
              "      <td>ram</td>\n",
              "      <td>2500</td>\n",
              "      <td>NaN</td>\n",
              "      <td>NaN</td>\n",
              "      <td>diesel</td>\n",
              "      <td>NaN</td>\n",
              "      <td>manual</td>\n",
              "      <td>NaN</td>\n",
              "      <td>19999</td>\n",
              "      <td>9.903438</td>\n",
              "      <td>4.301008</td>\n",
              "    </tr>\n",
              "    <tr>\n",
              "      <th>8</th>\n",
              "      <td>2015.0</td>\n",
              "      <td>ford</td>\n",
              "      <td>f-350</td>\n",
              "      <td>NaN</td>\n",
              "      <td>8</td>\n",
              "      <td>diesel</td>\n",
              "      <td>77350.0</td>\n",
              "      <td>automatic</td>\n",
              "      <td>pickup</td>\n",
              "      <td>33950</td>\n",
              "      <td>10.432644</td>\n",
              "      <td>4.530840</td>\n",
              "    </tr>\n",
              "    <tr>\n",
              "      <th>9</th>\n",
              "      <td>2015.0</td>\n",
              "      <td>ford</td>\n",
              "      <td>f-350</td>\n",
              "      <td>NaN</td>\n",
              "      <td>8</td>\n",
              "      <td>gas</td>\n",
              "      <td>121030.0</td>\n",
              "      <td>automatic</td>\n",
              "      <td>truck</td>\n",
              "      <td>25950</td>\n",
              "      <td>10.163927</td>\n",
              "      <td>4.414137</td>\n",
              "    </tr>\n",
              "    <tr>\n",
              "      <th>10</th>\n",
              "      <td>2018.0</td>\n",
              "      <td>ram</td>\n",
              "      <td>5500</td>\n",
              "      <td>NaN</td>\n",
              "      <td>6</td>\n",
              "      <td>diesel</td>\n",
              "      <td>60491.0</td>\n",
              "      <td>automatic</td>\n",
              "      <td>truck</td>\n",
              "      <td>49950</td>\n",
              "      <td>10.818778</td>\n",
              "      <td>4.698535</td>\n",
              "    </tr>\n",
              "    <tr>\n",
              "      <th>11</th>\n",
              "      <td>1964.0</td>\n",
              "      <td>chevrolet</td>\n",
              "      <td>NaN</td>\n",
              "      <td>fair</td>\n",
              "      <td>NaN</td>\n",
              "      <td>gas</td>\n",
              "      <td>NaN</td>\n",
              "      <td>manual</td>\n",
              "      <td>NaN</td>\n",
              "      <td>2300</td>\n",
              "      <td>7.740664</td>\n",
              "      <td>3.361728</td>\n",
              "    </tr>\n",
              "    <tr>\n",
              "      <th>12</th>\n",
              "      <td>2010.0</td>\n",
              "      <td>cadillac</td>\n",
              "      <td>srx luxury collection</td>\n",
              "      <td>good</td>\n",
              "      <td>8</td>\n",
              "      <td>gas</td>\n",
              "      <td>140000.0</td>\n",
              "      <td>automatic</td>\n",
              "      <td>SUV</td>\n",
              "      <td>9700</td>\n",
              "      <td>9.179881</td>\n",
              "      <td>3.986772</td>\n",
              "    </tr>\n",
              "    <tr>\n",
              "      <th>13</th>\n",
              "      <td>2001.0</td>\n",
              "      <td>chevrolet</td>\n",
              "      <td>silverado 1500</td>\n",
              "      <td>fair</td>\n",
              "      <td>8</td>\n",
              "      <td>gas</td>\n",
              "      <td>220000.0</td>\n",
              "      <td>automatic</td>\n",
              "      <td>pickup</td>\n",
              "      <td>2500</td>\n",
              "      <td>7.824046</td>\n",
              "      <td>3.397940</td>\n",
              "    </tr>\n",
              "    <tr>\n",
              "      <th>14</th>\n",
              "      <td>2016.0</td>\n",
              "      <td>ford</td>\n",
              "      <td>expedition el platinum</td>\n",
              "      <td>excellent</td>\n",
              "      <td>NaN</td>\n",
              "      <td>gas</td>\n",
              "      <td>149000.0</td>\n",
              "      <td>automatic</td>\n",
              "      <td>SUV</td>\n",
              "      <td>24575</td>\n",
              "      <td>10.109485</td>\n",
              "      <td>4.390494</td>\n",
              "    </tr>\n",
              "    <tr>\n",
              "      <th>15</th>\n",
              "      <td>2011.0</td>\n",
              "      <td>cadillac</td>\n",
              "      <td>srx lux</td>\n",
              "      <td>excellent</td>\n",
              "      <td>6</td>\n",
              "      <td>gas</td>\n",
              "      <td>75000.0</td>\n",
              "      <td>automatic</td>\n",
              "      <td>SUV</td>\n",
              "      <td>12950</td>\n",
              "      <td>9.468851</td>\n",
              "      <td>4.112270</td>\n",
              "    </tr>\n",
              "    <tr>\n",
              "      <th>16</th>\n",
              "      <td>2011.0</td>\n",
              "      <td>gmc</td>\n",
              "      <td>acadia denali</td>\n",
              "      <td>excellent</td>\n",
              "      <td>6</td>\n",
              "      <td>gas</td>\n",
              "      <td>140000.0</td>\n",
              "      <td>automatic</td>\n",
              "      <td>SUV</td>\n",
              "      <td>11995</td>\n",
              "      <td>9.392245</td>\n",
              "      <td>4.079000</td>\n",
              "    </tr>\n",
              "    <tr>\n",
              "      <th>17</th>\n",
              "      <td>2013.0</td>\n",
              "      <td>ford</td>\n",
              "      <td>f-250</td>\n",
              "      <td>NaN</td>\n",
              "      <td>NaN</td>\n",
              "      <td>diesel</td>\n",
              "      <td>NaN</td>\n",
              "      <td>automatic</td>\n",
              "      <td>NaN</td>\n",
              "      <td>31999</td>\n",
              "      <td>10.373460</td>\n",
              "      <td>4.505136</td>\n",
              "    </tr>\n",
              "    <tr>\n",
              "      <th>18</th>\n",
              "      <td>1953.0</td>\n",
              "      <td>NaN</td>\n",
              "      <td>International</td>\n",
              "      <td>NaN</td>\n",
              "      <td>NaN</td>\n",
              "      <td>gas</td>\n",
              "      <td>NaN</td>\n",
              "      <td>manual</td>\n",
              "      <td>pickup</td>\n",
              "      <td>2950</td>\n",
              "      <td>7.989560</td>\n",
              "      <td>3.469822</td>\n",
              "    </tr>\n",
              "    <tr>\n",
              "      <th>19</th>\n",
              "      <td>1996.0</td>\n",
              "      <td>mazda</td>\n",
              "      <td>NaN</td>\n",
              "      <td>NaN</td>\n",
              "      <td>NaN</td>\n",
              "      <td>gas</td>\n",
              "      <td>149000.0</td>\n",
              "      <td>manual</td>\n",
              "      <td>NaN</td>\n",
              "      <td>2000</td>\n",
              "      <td>7.600902</td>\n",
              "      <td>3.301030</td>\n",
              "    </tr>\n",
              "  </tbody>\n",
              "</table>\n",
              "</div>"
            ],
            "text/plain": [
              "      year manufacturer                    make  condition cylinders    fuel  \\\n",
              "0   2009.0    chevrolet            suburban lt2       good         8     gas   \n",
              "1   2012.0          ram                    2500        NaN       NaN  diesel   \n",
              "2   2003.0          ram                    3500        NaN       NaN  diesel   \n",
              "3   2002.0          gmc             sierra 1500       good         8     gas   \n",
              "4   2012.0    chevrolet                    3500  excellent         8  diesel   \n",
              "5   2003.0          NaN                    F150       fair         8     gas   \n",
              "6   2013.0         ford                   f-250        NaN         8     gas   \n",
              "7   2006.0          ram                    2500        NaN       NaN  diesel   \n",
              "8   2015.0         ford                   f-350        NaN         8  diesel   \n",
              "9   2015.0         ford                   f-350        NaN         8     gas   \n",
              "10  2018.0          ram                    5500        NaN         6  diesel   \n",
              "11  1964.0    chevrolet                     NaN       fair       NaN     gas   \n",
              "12  2010.0     cadillac   srx luxury collection       good         8     gas   \n",
              "13  2001.0    chevrolet          silverado 1500       fair         8     gas   \n",
              "14  2016.0         ford  expedition el platinum  excellent       NaN     gas   \n",
              "15  2011.0     cadillac                 srx lux  excellent         6     gas   \n",
              "16  2011.0          gmc           acadia denali  excellent         6     gas   \n",
              "17  2013.0         ford                   f-250        NaN       NaN  diesel   \n",
              "18  1953.0          NaN           International        NaN       NaN     gas   \n",
              "19  1996.0        mazda                     NaN        NaN       NaN     gas   \n",
              "\n",
              "    odometer transmission    type  price   ln_price  log10_price  \n",
              "0   217743.0    automatic     SUV   9000   9.104980     3.954243  \n",
              "1        NaN    automatic     NaN  31999  10.373460     4.505136  \n",
              "2        NaN       manual     NaN  16990   9.740380     4.230193  \n",
              "3   195000.0    automatic  pickup   6000   8.699515     3.778151  \n",
              "4   178000.0    automatic  pickup  37000  10.518673     4.568202  \n",
              "5   269000.0    automatic  pickup   3700   8.216088     3.568202  \n",
              "6   116792.0    automatic  pickup  19950   9.900984     4.299943  \n",
              "7        NaN       manual     NaN  19999   9.903438     4.301008  \n",
              "8    77350.0    automatic  pickup  33950  10.432644     4.530840  \n",
              "9   121030.0    automatic   truck  25950  10.163927     4.414137  \n",
              "10   60491.0    automatic   truck  49950  10.818778     4.698535  \n",
              "11       NaN       manual     NaN   2300   7.740664     3.361728  \n",
              "12  140000.0    automatic     SUV   9700   9.179881     3.986772  \n",
              "13  220000.0    automatic  pickup   2500   7.824046     3.397940  \n",
              "14  149000.0    automatic     SUV  24575  10.109485     4.390494  \n",
              "15   75000.0    automatic     SUV  12950   9.468851     4.112270  \n",
              "16  140000.0    automatic     SUV  11995   9.392245     4.079000  \n",
              "17       NaN    automatic     NaN  31999  10.373460     4.505136  \n",
              "18       NaN       manual  pickup   2950   7.989560     3.469822  \n",
              "19  149000.0       manual     NaN   2000   7.600902     3.301030  "
            ]
          },
          "metadata": {
            "tags": []
          },
          "execution_count": 140
        }
      ]
    },
    {
      "cell_type": "code",
      "metadata": {
        "id": "0_nmG0JIVbcV",
        "colab_type": "code",
        "outputId": "8ce3d802-12ce-4257-b2c9-6d8f8d1984be",
        "colab": {
          "base_uri": "https://localhost:8080/",
          "height": 677
        }
      },
      "source": [
        "# remove all entries with any NaN data\n",
        "\n",
        "moddf = df.dropna(thresh=12)\n",
        "moddf.head(20)"
      ],
      "execution_count": 0,
      "outputs": [
        {
          "output_type": "execute_result",
          "data": {
            "text/html": [
              "<div>\n",
              "<style scoped>\n",
              "    .dataframe tbody tr th:only-of-type {\n",
              "        vertical-align: middle;\n",
              "    }\n",
              "\n",
              "    .dataframe tbody tr th {\n",
              "        vertical-align: top;\n",
              "    }\n",
              "\n",
              "    .dataframe thead th {\n",
              "        text-align: right;\n",
              "    }\n",
              "</style>\n",
              "<table border=\"1\" class=\"dataframe\">\n",
              "  <thead>\n",
              "    <tr style=\"text-align: right;\">\n",
              "      <th></th>\n",
              "      <th>year</th>\n",
              "      <th>manufacturer</th>\n",
              "      <th>make</th>\n",
              "      <th>condition</th>\n",
              "      <th>cylinders</th>\n",
              "      <th>fuel</th>\n",
              "      <th>odometer</th>\n",
              "      <th>transmission</th>\n",
              "      <th>type</th>\n",
              "      <th>price</th>\n",
              "      <th>ln_price</th>\n",
              "      <th>log10_price</th>\n",
              "    </tr>\n",
              "  </thead>\n",
              "  <tbody>\n",
              "    <tr>\n",
              "      <th>0</th>\n",
              "      <td>2009.0</td>\n",
              "      <td>chevrolet</td>\n",
              "      <td>suburban lt2</td>\n",
              "      <td>good</td>\n",
              "      <td>8</td>\n",
              "      <td>gas</td>\n",
              "      <td>217743.0</td>\n",
              "      <td>automatic</td>\n",
              "      <td>SUV</td>\n",
              "      <td>9000</td>\n",
              "      <td>9.104980</td>\n",
              "      <td>3.954243</td>\n",
              "    </tr>\n",
              "    <tr>\n",
              "      <th>3</th>\n",
              "      <td>2002.0</td>\n",
              "      <td>gmc</td>\n",
              "      <td>sierra 1500</td>\n",
              "      <td>good</td>\n",
              "      <td>8</td>\n",
              "      <td>gas</td>\n",
              "      <td>195000.0</td>\n",
              "      <td>automatic</td>\n",
              "      <td>pickup</td>\n",
              "      <td>6000</td>\n",
              "      <td>8.699515</td>\n",
              "      <td>3.778151</td>\n",
              "    </tr>\n",
              "    <tr>\n",
              "      <th>4</th>\n",
              "      <td>2012.0</td>\n",
              "      <td>chevrolet</td>\n",
              "      <td>3500</td>\n",
              "      <td>excellent</td>\n",
              "      <td>8</td>\n",
              "      <td>diesel</td>\n",
              "      <td>178000.0</td>\n",
              "      <td>automatic</td>\n",
              "      <td>pickup</td>\n",
              "      <td>37000</td>\n",
              "      <td>10.518673</td>\n",
              "      <td>4.568202</td>\n",
              "    </tr>\n",
              "    <tr>\n",
              "      <th>12</th>\n",
              "      <td>2010.0</td>\n",
              "      <td>cadillac</td>\n",
              "      <td>srx luxury collection</td>\n",
              "      <td>good</td>\n",
              "      <td>8</td>\n",
              "      <td>gas</td>\n",
              "      <td>140000.0</td>\n",
              "      <td>automatic</td>\n",
              "      <td>SUV</td>\n",
              "      <td>9700</td>\n",
              "      <td>9.179881</td>\n",
              "      <td>3.986772</td>\n",
              "    </tr>\n",
              "    <tr>\n",
              "      <th>13</th>\n",
              "      <td>2001.0</td>\n",
              "      <td>chevrolet</td>\n",
              "      <td>silverado 1500</td>\n",
              "      <td>fair</td>\n",
              "      <td>8</td>\n",
              "      <td>gas</td>\n",
              "      <td>220000.0</td>\n",
              "      <td>automatic</td>\n",
              "      <td>pickup</td>\n",
              "      <td>2500</td>\n",
              "      <td>7.824046</td>\n",
              "      <td>3.397940</td>\n",
              "    </tr>\n",
              "    <tr>\n",
              "      <th>15</th>\n",
              "      <td>2011.0</td>\n",
              "      <td>cadillac</td>\n",
              "      <td>srx lux</td>\n",
              "      <td>excellent</td>\n",
              "      <td>6</td>\n",
              "      <td>gas</td>\n",
              "      <td>75000.0</td>\n",
              "      <td>automatic</td>\n",
              "      <td>SUV</td>\n",
              "      <td>12950</td>\n",
              "      <td>9.468851</td>\n",
              "      <td>4.112270</td>\n",
              "    </tr>\n",
              "    <tr>\n",
              "      <th>16</th>\n",
              "      <td>2011.0</td>\n",
              "      <td>gmc</td>\n",
              "      <td>acadia denali</td>\n",
              "      <td>excellent</td>\n",
              "      <td>6</td>\n",
              "      <td>gas</td>\n",
              "      <td>140000.0</td>\n",
              "      <td>automatic</td>\n",
              "      <td>SUV</td>\n",
              "      <td>11995</td>\n",
              "      <td>9.392245</td>\n",
              "      <td>4.079000</td>\n",
              "    </tr>\n",
              "    <tr>\n",
              "      <th>20</th>\n",
              "      <td>2010.0</td>\n",
              "      <td>jeep</td>\n",
              "      <td>wrangler</td>\n",
              "      <td>excellent</td>\n",
              "      <td>6</td>\n",
              "      <td>gas</td>\n",
              "      <td>112779.0</td>\n",
              "      <td>automatic</td>\n",
              "      <td>SUV</td>\n",
              "      <td>18995</td>\n",
              "      <td>9.851931</td>\n",
              "      <td>4.278639</td>\n",
              "    </tr>\n",
              "    <tr>\n",
              "      <th>24</th>\n",
              "      <td>2014.0</td>\n",
              "      <td>gmc</td>\n",
              "      <td>sierra 1500</td>\n",
              "      <td>excellent</td>\n",
              "      <td>8</td>\n",
              "      <td>gas</td>\n",
              "      <td>75528.0</td>\n",
              "      <td>automatic</td>\n",
              "      <td>truck</td>\n",
              "      <td>31790</td>\n",
              "      <td>10.366907</td>\n",
              "      <td>4.502291</td>\n",
              "    </tr>\n",
              "    <tr>\n",
              "      <th>25</th>\n",
              "      <td>2015.0</td>\n",
              "      <td>ram</td>\n",
              "      <td>3500</td>\n",
              "      <td>excellent</td>\n",
              "      <td>8</td>\n",
              "      <td>gas</td>\n",
              "      <td>131220.0</td>\n",
              "      <td>automatic</td>\n",
              "      <td>truck</td>\n",
              "      <td>20270</td>\n",
              "      <td>9.916897</td>\n",
              "      <td>4.306854</td>\n",
              "    </tr>\n",
              "    <tr>\n",
              "      <th>26</th>\n",
              "      <td>2008.0</td>\n",
              "      <td>nissan</td>\n",
              "      <td>pathfinder</td>\n",
              "      <td>excellent</td>\n",
              "      <td>8</td>\n",
              "      <td>gas</td>\n",
              "      <td>139046.0</td>\n",
              "      <td>automatic</td>\n",
              "      <td>SUV</td>\n",
              "      <td>8490</td>\n",
              "      <td>9.046644</td>\n",
              "      <td>3.928908</td>\n",
              "    </tr>\n",
              "    <tr>\n",
              "      <th>27</th>\n",
              "      <td>2010.0</td>\n",
              "      <td>jeep</td>\n",
              "      <td>wrangler</td>\n",
              "      <td>excellent</td>\n",
              "      <td>6</td>\n",
              "      <td>gas</td>\n",
              "      <td>101883.0</td>\n",
              "      <td>automatic</td>\n",
              "      <td>SUV</td>\n",
              "      <td>20790</td>\n",
              "      <td>9.942227</td>\n",
              "      <td>4.317854</td>\n",
              "    </tr>\n",
              "    <tr>\n",
              "      <th>28</th>\n",
              "      <td>2013.0</td>\n",
              "      <td>ram</td>\n",
              "      <td>2500</td>\n",
              "      <td>excellent</td>\n",
              "      <td>6</td>\n",
              "      <td>diesel</td>\n",
              "      <td>107392.0</td>\n",
              "      <td>automatic</td>\n",
              "      <td>truck</td>\n",
              "      <td>29995</td>\n",
              "      <td>10.308786</td>\n",
              "      <td>4.477049</td>\n",
              "    </tr>\n",
              "    <tr>\n",
              "      <th>29</th>\n",
              "      <td>2013.0</td>\n",
              "      <td>gmc</td>\n",
              "      <td>sierra 1500</td>\n",
              "      <td>excellent</td>\n",
              "      <td>8</td>\n",
              "      <td>gas</td>\n",
              "      <td>72536.0</td>\n",
              "      <td>automatic</td>\n",
              "      <td>truck</td>\n",
              "      <td>27490</td>\n",
              "      <td>10.221578</td>\n",
              "      <td>4.439175</td>\n",
              "    </tr>\n",
              "    <tr>\n",
              "      <th>30</th>\n",
              "      <td>2012.0</td>\n",
              "      <td>gmc</td>\n",
              "      <td>sierra 3500hd</td>\n",
              "      <td>excellent</td>\n",
              "      <td>8</td>\n",
              "      <td>diesel</td>\n",
              "      <td>75802.0</td>\n",
              "      <td>automatic</td>\n",
              "      <td>truck</td>\n",
              "      <td>34990</td>\n",
              "      <td>10.462818</td>\n",
              "      <td>4.543944</td>\n",
              "    </tr>\n",
              "    <tr>\n",
              "      <th>31</th>\n",
              "      <td>2011.0</td>\n",
              "      <td>chevrolet</td>\n",
              "      <td>suburban 1500</td>\n",
              "      <td>excellent</td>\n",
              "      <td>8</td>\n",
              "      <td>gas</td>\n",
              "      <td>142187.0</td>\n",
              "      <td>automatic</td>\n",
              "      <td>SUV</td>\n",
              "      <td>13690</td>\n",
              "      <td>9.524421</td>\n",
              "      <td>4.136403</td>\n",
              "    </tr>\n",
              "    <tr>\n",
              "      <th>32</th>\n",
              "      <td>2013.0</td>\n",
              "      <td>chevrolet</td>\n",
              "      <td>tahoe</td>\n",
              "      <td>excellent</td>\n",
              "      <td>8</td>\n",
              "      <td>gas</td>\n",
              "      <td>117186.0</td>\n",
              "      <td>automatic</td>\n",
              "      <td>SUV</td>\n",
              "      <td>18490</td>\n",
              "      <td>9.824985</td>\n",
              "      <td>4.266937</td>\n",
              "    </tr>\n",
              "    <tr>\n",
              "      <th>34</th>\n",
              "      <td>2017.0</td>\n",
              "      <td>nissan</td>\n",
              "      <td>murano</td>\n",
              "      <td>excellent</td>\n",
              "      <td>6</td>\n",
              "      <td>gas</td>\n",
              "      <td>61112.0</td>\n",
              "      <td>automatic</td>\n",
              "      <td>SUV</td>\n",
              "      <td>17990</td>\n",
              "      <td>9.797571</td>\n",
              "      <td>4.255031</td>\n",
              "    </tr>\n",
              "    <tr>\n",
              "      <th>35</th>\n",
              "      <td>2005.0</td>\n",
              "      <td>ram</td>\n",
              "      <td>2500</td>\n",
              "      <td>excellent</td>\n",
              "      <td>6</td>\n",
              "      <td>diesel</td>\n",
              "      <td>265201.0</td>\n",
              "      <td>automatic</td>\n",
              "      <td>truck</td>\n",
              "      <td>13990</td>\n",
              "      <td>9.546098</td>\n",
              "      <td>4.145818</td>\n",
              "    </tr>\n",
              "    <tr>\n",
              "      <th>46</th>\n",
              "      <td>2012.0</td>\n",
              "      <td>volkswagen</td>\n",
              "      <td>tiguan</td>\n",
              "      <td>good</td>\n",
              "      <td>4</td>\n",
              "      <td>gas</td>\n",
              "      <td>87000.0</td>\n",
              "      <td>automatic</td>\n",
              "      <td>SUV</td>\n",
              "      <td>9000</td>\n",
              "      <td>9.104980</td>\n",
              "      <td>3.954243</td>\n",
              "    </tr>\n",
              "  </tbody>\n",
              "</table>\n",
              "</div>"
            ],
            "text/plain": [
              "      year manufacturer                   make  condition cylinders    fuel  \\\n",
              "0   2009.0    chevrolet           suburban lt2       good         8     gas   \n",
              "3   2002.0          gmc            sierra 1500       good         8     gas   \n",
              "4   2012.0    chevrolet                   3500  excellent         8  diesel   \n",
              "12  2010.0     cadillac  srx luxury collection       good         8     gas   \n",
              "13  2001.0    chevrolet         silverado 1500       fair         8     gas   \n",
              "15  2011.0     cadillac                srx lux  excellent         6     gas   \n",
              "16  2011.0          gmc          acadia denali  excellent         6     gas   \n",
              "20  2010.0         jeep               wrangler  excellent         6     gas   \n",
              "24  2014.0          gmc            sierra 1500  excellent         8     gas   \n",
              "25  2015.0          ram                   3500  excellent         8     gas   \n",
              "26  2008.0       nissan             pathfinder  excellent         8     gas   \n",
              "27  2010.0         jeep               wrangler  excellent         6     gas   \n",
              "28  2013.0          ram                   2500  excellent         6  diesel   \n",
              "29  2013.0          gmc            sierra 1500  excellent         8     gas   \n",
              "30  2012.0          gmc          sierra 3500hd  excellent         8  diesel   \n",
              "31  2011.0    chevrolet          suburban 1500  excellent         8     gas   \n",
              "32  2013.0    chevrolet                  tahoe  excellent         8     gas   \n",
              "34  2017.0       nissan                 murano  excellent         6     gas   \n",
              "35  2005.0          ram                   2500  excellent         6  diesel   \n",
              "46  2012.0   volkswagen                 tiguan       good         4     gas   \n",
              "\n",
              "    odometer transmission    type  price   ln_price  log10_price  \n",
              "0   217743.0    automatic     SUV   9000   9.104980     3.954243  \n",
              "3   195000.0    automatic  pickup   6000   8.699515     3.778151  \n",
              "4   178000.0    automatic  pickup  37000  10.518673     4.568202  \n",
              "12  140000.0    automatic     SUV   9700   9.179881     3.986772  \n",
              "13  220000.0    automatic  pickup   2500   7.824046     3.397940  \n",
              "15   75000.0    automatic     SUV  12950   9.468851     4.112270  \n",
              "16  140000.0    automatic     SUV  11995   9.392245     4.079000  \n",
              "20  112779.0    automatic     SUV  18995   9.851931     4.278639  \n",
              "24   75528.0    automatic   truck  31790  10.366907     4.502291  \n",
              "25  131220.0    automatic   truck  20270   9.916897     4.306854  \n",
              "26  139046.0    automatic     SUV   8490   9.046644     3.928908  \n",
              "27  101883.0    automatic     SUV  20790   9.942227     4.317854  \n",
              "28  107392.0    automatic   truck  29995  10.308786     4.477049  \n",
              "29   72536.0    automatic   truck  27490  10.221578     4.439175  \n",
              "30   75802.0    automatic   truck  34990  10.462818     4.543944  \n",
              "31  142187.0    automatic     SUV  13690   9.524421     4.136403  \n",
              "32  117186.0    automatic     SUV  18490   9.824985     4.266937  \n",
              "34   61112.0    automatic     SUV  17990   9.797571     4.255031  \n",
              "35  265201.0    automatic   truck  13990   9.546098     4.145818  \n",
              "46   87000.0    automatic     SUV   9000   9.104980     3.954243  "
            ]
          },
          "metadata": {
            "tags": []
          },
          "execution_count": 141
        }
      ]
    },
    {
      "cell_type": "markdown",
      "metadata": {
        "id": "GJCRsKL14CDr",
        "colab_type": "text"
      },
      "source": [
        "## **Data Visualization** "
      ]
    },
    {
      "cell_type": "code",
      "metadata": {
        "id": "pJ6Vs14b3ogX",
        "colab_type": "code",
        "outputId": "245d83c3-7940-44db-85c5-61362baf20db",
        "colab": {
          "base_uri": "https://localhost:8080/",
          "height": 514
        }
      },
      "source": [
        "plt.figure(figsize=(20,8))\n",
        "plt.subplot(1,2,1)\n",
        "sns.distplot(moddf['price'])"
      ],
      "execution_count": 0,
      "outputs": [
        {
          "output_type": "execute_result",
          "data": {
            "text/plain": [
              "<matplotlib.axes._subplots.AxesSubplot at 0x7fd9da9409b0>"
            ]
          },
          "metadata": {
            "tags": []
          },
          "execution_count": 146
        },
        {
          "output_type": "display_data",
          "data": {
            "image/png": "[encoded data removed]",
            "text/plain": [
              "<Figure size 1440x576 with 1 Axes>"
            ]
          },
          "metadata": {
            "tags": []
          }
        }
      ]
    },
    {
      "cell_type": "code",
      "metadata": {
        "id": "dyYdhf4yygkB",
        "colab_type": "code",
        "outputId": "bc618ef7-a603-43d3-cd50-c74c5a782cdb",
        "colab": {
          "base_uri": "https://localhost:8080/",
          "height": 450
        }
      },
      "source": [
        "fig = plt.figure(figsize=(15,15))\n",
        "fig.subplots_adjust(hspace=0.2, wspace=0.2)\n",
        "ax1 = fig.add_subplot(2,2,1)\n",
        "plt.xlim([0, 100000])\n",
        "p1 = sns.scatterplot(x=\"odometer\", y=\"price\", data=moddf)\n",
        "loc, labels = plt.xticks()\n",
        "ax1.set_xlabel('Odometer')\n"
      ],
      "execution_count": 0,
      "outputs": [
        {
          "output_type": "execute_result",
          "data": {
            "text/plain": [
              "Text(0.5, 0, 'Odometer')"
            ]
          },
          "metadata": {
            "tags": []
          },
          "execution_count": 119
        },
        {
          "output_type": "display_data",
          "data": {
            "image/png": "[encoded data removed]",
            "text/plain": [
              "<Figure size 1080x1080 with 1 Axes>"
            ]
          },
          "metadata": {
            "tags": []
          }
        }
      ]
    },
    {
      "cell_type": "code",
      "metadata": {
        "id": "tKQCU3rq0tJN",
        "colab_type": "code",
        "outputId": "57799f56-3a57-44b0-f004-52b1d7121c00",
        "colab": {
          "base_uri": "https://localhost:8080/",
          "height": 1000
        }
      },
      "source": [
        "fig = plt.figure(figsize=(20,18))\n",
        "fig.subplots_adjust(hspace=0.2, wspace=0.2)\n",
        "fig.add_subplot(2,2,1)\n",
        "g1 = sns.countplot(x='manufacturer', data=moddf)\n",
        "loc,labels = plt.xticks()\n",
        "g1.set_xticklabels(labels,rotation=90)\n"
      ],
      "execution_count": 0,
      "outputs": [
        {
          "output_type": "execute_result",
          "data": {
            "text/plain": [
              "[Text(0, 0, 'chevrolet'),\n",
              " Text(0, 0, 'gmc'),\n",
              " Text(0, 0, 'cadillac'),\n",
              " Text(0, 0, 'jeep'),\n",
              " Text(0, 0, 'ram'),\n",
              " Text(0, 0, 'nissan'),\n",
              " Text(0, 0, 'volkswagen'),\n",
              " Text(0, 0, 'hyundai'),\n",
              " Text(0, 0, 'ford'),\n",
              " Text(0, 0, 'honda'),\n",
              " Text(0, 0, 'toyota'),\n",
              " Text(0, 0, 'dodge'),\n",
              " Text(0, 0, 'bmw'),\n",
              " Text(0, 0, 'subaru'),\n",
              " Text(0, 0, 'lexus'),\n",
              " Text(0, 0, 'mercedes-benz'),\n",
              " Text(0, 0, 'rover'),\n",
              " Text(0, 0, 'acura'),\n",
              " Text(0, 0, 'saturn'),\n",
              " Text(0, 0, 'mazda'),\n",
              " Text(0, 0, 'mitsubishi'),\n",
              " Text(0, 0, 'pontiac'),\n",
              " Text(0, 0, 'volvo'),\n",
              " Text(0, 0, 'buick'),\n",
              " Text(0, 0, 'mercury'),\n",
              " Text(0, 0, 'chrysler'),\n",
              " Text(0, 0, 'audi'),\n",
              " Text(0, 0, 'kia'),\n",
              " Text(0, 0, 'jaguar'),\n",
              " Text(0, 0, 'mini'),\n",
              " Text(0, 0, 'ferrari'),\n",
              " Text(0, 0, 'lincoln'),\n",
              " Text(0, 0, 'infiniti'),\n",
              " Text(0, 0, 'harley-davidson'),\n",
              " Text(0, 0, 'datsun'),\n",
              " Text(0, 0, 'fiat'),\n",
              " Text(0, 0, 'alfa-romeo'),\n",
              " Text(0, 0, 'land rover'),\n",
              " Text(0, 0, 'hennessey'),\n",
              " Text(0, 0, 'porche'),\n",
              " Text(0, 0, 'morgan'),\n",
              " Text(0, 0, 'aston-martin')]"
            ]
          },
          "metadata": {
            "tags": []
          },
          "execution_count": 142
        },
        {
          "output_type": "display_data",
          "data": {
            "image/png": "[encoded data removed]",
            "text/plain": [
              "<Figure size 1440x1296 with 1 Axes>"
            ]
          },
          "metadata": {
            "tags": []
          }
        }
      ]
    },
    {
      "cell_type": "code",
      "metadata": {
        "id": "GSZBX7_Xz6xN",
        "colab_type": "code",
        "outputId": "5a67f7d9-9026-4986-95f7-b0d5c3128200",
        "colab": {
          "base_uri": "https://localhost:8080/",
          "height": 524
        }
      },
      "source": [
        "fig = plt.figure(figsize=(20,18))\n",
        "fig.subplots_adjust(hspace=0.2, wspace=0.2)\n",
        "fig.add_subplot(2,2,3)\n",
        "g3 = sns.countplot(x='transmission', data=moddf)\n",
        "loc,labels = plt.xticks()\n",
        "g3.set_xticklabels(labels,rotation=0)"
      ],
      "execution_count": 0,
      "outputs": [
        {
          "output_type": "execute_result",
          "data": {
            "text/plain": [
              "[Text(0, 0, 'automatic'), Text(0, 0, 'manual'), Text(0, 0, 'other')]"
            ]
          },
          "metadata": {
            "tags": []
          },
          "execution_count": 143
        },
        {
          "output_type": "display_data",
          "data": {
            "image/png": "[encoded data removed]",
            "text/plain": [
              "<Figure size 1440x1296 with 1 Axes>"
            ]
          },
          "metadata": {
            "tags": []
          }
        }
      ]
    },
    {
      "cell_type": "code",
      "metadata": {
        "id": "20wSjgRO2rMK",
        "colab_type": "code",
        "outputId": "bdf2eb63-9536-44d6-9f52-f4a228f57588",
        "colab": {
          "base_uri": "https://localhost:8080/",
          "height": 421
        }
      },
      "source": [
        "fig.add_subplot(2,2,2)\n",
        "g2 = sns.countplot(x='fuel', data=moddf)\n",
        "loc,labels = plt.xticks()\n",
        "g2.set_xticklabels(labels,rotation=0)"
      ],
      "execution_count": 0,
      "outputs": [
        {
          "output_type": "stream",
          "text": [
            "/usr/local/lib/python3.6/dist-packages/ipykernel_launcher.py:1: MatplotlibDeprecationWarning: Adding an axes using the same arguments as a previous axes currently reuses the earlier instance.  In a future version, a new instance will always be created and returned.  Meanwhile, this warning can be suppressed, and the future behavior ensured, by passing a unique label to each axes instance.\n",
            "  \"\"\"Entry point for launching an IPython kernel.\n"
          ],
          "name": "stderr"
        },
        {
          "output_type": "execute_result",
          "data": {
            "text/plain": [
              "[Text(0, 0, 'gas'),\n",
              " Text(0, 0, 'diesel'),\n",
              " Text(0, 0, 'hybrid'),\n",
              " Text(0, 0, 'other'),\n",
              " Text(0, 0, 'electric')]"
            ]
          },
          "metadata": {
            "tags": []
          },
          "execution_count": 145
        },
        {
          "output_type": "display_data",
          "data": {
            "image/png": "[encoded data removed]",
            "text/plain": [
              "<Figure size 432x288 with 1 Axes>"
            ]
          },
          "metadata": {
            "tags": []
          }
        }
      ]
    },
    {
      "cell_type": "code",
      "metadata": {
        "id": "CZctUWdgzlO3",
        "colab_type": "code",
        "colab": {}
      },
      "source": [
        "\n",
        "# Price vs Manufacturer\n",
        "#moddf.plot( x='manufacturer', y='price', kind='bar')\n",
        "#plot.show()"
      ],
      "execution_count": 0,
      "outputs": []
    },
    {
      "cell_type": "code",
      "metadata": {
        "id": "gtpHn76Bzs-7",
        "colab_type": "code",
        "colab": {}
      },
      "source": [
        "# Price vs Type\n",
        "#moddf.plot"
      ],
      "execution_count": 0,
      "outputs": []
    },
    {
      "cell_type": "code",
      "metadata": {
        "id": "bHetgFWt4p5a",
        "colab_type": "code",
        "colab": {}
      },
      "source": [
        "# USE SEABORN TO GENERATE COREELATION AND COMPARE RELATIONSHIP TO EACH OTHER, MAYBE REMOVE CERTAIN PARAMETERS IF ITS CONNECTED\n",
        "# pairplot\n",
        "#import seaborn as sns\n",
        "#sns.set(style=\"ticks\", color_codes=True)\n",
        "#sns.pairplot(daily_ret) # replace daily_ret with a dataframe"
      ],
      "execution_count": 0,
      "outputs": []
    },
    {
      "cell_type": "code",
      "metadata": {
        "id": "ZgDdhBA74WxH",
        "colab_type": "code",
        "outputId": "b931a5df-d333-4d9a-ff2e-f50b99c158ed",
        "colab": {
          "base_uri": "https://localhost:8080/",
          "height": 281
        }
      },
      "source": [
        "# HISTOGRAM OF PRICES TO PROJECT MOST AVERAGE PRICE\n",
        "\n",
        "#we normalised the data using log of base 10\n",
        "hist = moddf.hist(column='price')"
      ],
      "execution_count": 0,
      "outputs": [
        {
          "output_type": "display_data",
          "data": {
            "image/png": "[encoded data removed]",
            "text/plain": [
              "<Figure size 432x288 with 1 Axes>"
            ]
          },
          "metadata": {
            "tags": []
          }
        }
      ]
    },
    {
      "cell_type": "code",
      "metadata": {
        "id": "A-swsHSZEe_M",
        "colab_type": "code",
        "outputId": "f3d46654-862e-4fbf-df4a-165434f890ba",
        "colab": {
          "base_uri": "https://localhost:8080/",
          "height": 282
        }
      },
      "source": [
        "x = df.log10_price\n",
        "plt.hist(x, color= 'red')\n",
        "plt.axvline(x.mean(), color='k', linestyle='dashed', linewidth=1)\n",
        "min_ylim, max_ylim = plt.ylim()\n",
        "plt.text(x.mean()*1.005, max_ylim*0.8, 'Mean: {:.8f}'.format(x.mean()), color = 'black')"
      ],
      "execution_count": 0,
      "outputs": [
        {
          "output_type": "execute_result",
          "data": {
            "text/plain": [
              "Text(4.081419487985394, 1831.2, 'Mean: 4.06111392')"
            ]
          },
          "metadata": {
            "tags": []
          },
          "execution_count": 78
        },
        {
          "output_type": "display_data",
          "data": {
            "image/png": "[encoded data removed]",
            "text/plain": [
              "<Figure size 432x288 with 1 Axes>"
            ]
          },
          "metadata": {
            "tags": []
          }
        }
      ]
    },
    {
      "cell_type": "code",
      "metadata": {
        "id": "FA0yuwa6LH13",
        "colab_type": "code",
        "outputId": "cde9ac39-ca68-4d9a-c51c-664943520f0b",
        "colab": {
          "base_uri": "https://localhost:8080/",
          "height": 34
        }
      },
      "source": [
        "\n",
        "# mean(log10_price) = 3.99239351\n",
        "# mean price\n",
        "\n",
        "mean_price = 10 ** 3.99239351\n",
        "print('Mean price of used cars: $', round(mean_price,2))"
      ],
      "execution_count": 0,
      "outputs": [
        {
          "output_type": "stream",
          "text": [
            "Mean price of used cars: $ 9826.38\n"
          ],
          "name": "stdout"
        }
      ]
    },
    {
      "cell_type": "code",
      "metadata": {
        "id": "IQzHs5FT4om0",
        "colab_type": "code",
        "outputId": "a443b30e-727c-42b3-e532-c16fb7d7f959",
        "colab": {
          "base_uri": "https://localhost:8080/",
          "height": 1000
        }
      },
      "source": [
        "# FIND CORRELATION OF EACH PARAMETER TO PRICE [YANBO]\n",
        "# PLOT A HEAT MAP WITH CORRELATION (REFER TO https://towardsdatascience.com/using-machine-learning-to-predict-home-prices-d5d534e42d38)\n",
        "\n",
        "#use seaborn \n",
        "\"\"\"\n",
        "parameters:\n",
        "year            float64\n",
        "manufacturer     object\n",
        "make             object\n",
        "condition        object\n",
        "cylinders        object\n",
        "fuel             object\n",
        "odometer        float64\n",
        "transmission     object\n",
        "type\n",
        "\"\"\"\n",
        "import seaborn as sns\n",
        "import pandas as pd\n",
        "pd.set_option('display.max_columns', None)\n",
        "data = pd.read_csv('craigslistVehiclesTiny.csv', low_memory=False, lineterminator ='\\n')\n",
        "# data.head()\n",
        "df = data[['year', 'manufacturer', 'make', 'condition', 'cylinders', 'fuel', 'odometer', 'transmission', 'type', 'price']].copy(deep = True)\n",
        "# print(df.head())\n",
        "# c= (df['cylinders'])\n",
        "# pd.to_numeric(c)\n",
        "# print(c)\n",
        "\n",
        "# print(df.loc['cylinders'])\n",
        "# df1 = df[['year','price']]\n",
        "# print(df.head())\n",
        "# heatmap1 = pd.pivot_table(df1,values='price',columns='year' )\n",
        "# sns.heatmap(heatmap1,cmap=\"YlGnBu\")\n",
        "\n",
        "# df1=df[['year','odometer','cylinders','price']]\n",
        "\n",
        "df['log10_price'] = np.log10(df[\"price\"])\n",
        "df1=df[['year','odometer','log10_price']]\n",
        "# df2=df[['year','odometer','price']]\n",
        "ax1=sns.heatmap(df1.corr(),vmin=-1,vmax=1,center=0,annot=True)\n",
        "\n",
        "# ax2=sns.heatmap(df2.corr(),vmin=-1,vmax=1,center=0,cmap='Blues',annot=True)\n",
        "ax1.set_title('Multi-Collinearity of Car Attributes')\n",
        "bottom,top=ax1.get_ylim()\n",
        "ax1.set_ylim(bottom+0.5,top-0.5)\n",
        "\n",
        "\n",
        "df1.plot(kind='scatter',x='log10_price',y='year',color='red')\n",
        "df1.plot(kind='scatter',x='log10_price',y='odometer',color='red')\n",
        "plt.show()\n",
        "df.corr(method='pearson')\n",
        "# df.style.set_caption('Pearson Coefficient (Big Data Set)')\n",
        "# pearson : standard correlation coefficient\n",
        "\n"
      ],
      "execution_count": 0,
      "outputs": [
        {
          "output_type": "stream",
          "text": [
            "/usr/local/lib/python3.6/dist-packages/pandas/core/series.py:856: RuntimeWarning: divide by zero encountered in log10\n",
            "  result = getattr(ufunc, method)(*inputs, **kwargs)\n"
          ],
          "name": "stderr"
        },
        {
          "output_type": "display_data",
          "data": {
            "image/png": "[encoded data removed]",
            "text/plain": [
              "<Figure size 432x288 with 2 Axes>"
            ]
          },
          "metadata": {
            "tags": []
          }
        },
        {
          "output_type": "display_data",
          "data": {
            "image/png": "[encoded data removed]",
            "text/plain": [
              "<Figure size 432x288 with 1 Axes>"
            ]
          },
          "metadata": {
            "tags": []
          }
        },
        {
          "output_type": "display_data",
          "data": {
            "image/png": "[encoded data removed]",
            "text/plain": [
              "<Figure size 432x288 with 1 Axes>"
            ]
          },
          "metadata": {
            "tags": []
          }
        },
        {
          "output_type": "execute_result",
          "data": {
            "text/html": [
              "<div>\n",
              "<style scoped>\n",
              "    .dataframe tbody tr th:only-of-type {\n",
              "        vertical-align: middle;\n",
              "    }\n",
              "\n",
              "    .dataframe tbody tr th {\n",
              "        vertical-align: top;\n",
              "    }\n",
              "\n",
              "    .dataframe thead th {\n",
              "        text-align: right;\n",
              "    }\n",
              "</style>\n",
              "<table border=\"1\" class=\"dataframe\">\n",
              "  <thead>\n",
              "    <tr style=\"text-align: right;\">\n",
              "      <th></th>\n",
              "      <th>year</th>\n",
              "      <th>odometer</th>\n",
              "      <th>price</th>\n",
              "      <th>log10_price</th>\n",
              "    </tr>\n",
              "  </thead>\n",
              "  <tbody>\n",
              "    <tr>\n",
              "      <th>year</th>\n",
              "      <td>1.000000</td>\n",
              "      <td>-0.296023</td>\n",
              "      <td>0.235328</td>\n",
              "      <td>0.250018</td>\n",
              "    </tr>\n",
              "    <tr>\n",
              "      <th>odometer</th>\n",
              "      <td>-0.296023</td>\n",
              "      <td>1.000000</td>\n",
              "      <td>-0.229949</td>\n",
              "      <td>-0.197119</td>\n",
              "    </tr>\n",
              "    <tr>\n",
              "      <th>price</th>\n",
              "      <td>0.235328</td>\n",
              "      <td>-0.229949</td>\n",
              "      <td>1.000000</td>\n",
              "      <td>0.638131</td>\n",
              "    </tr>\n",
              "    <tr>\n",
              "      <th>log10_price</th>\n",
              "      <td>0.250018</td>\n",
              "      <td>-0.197119</td>\n",
              "      <td>0.638131</td>\n",
              "      <td>1.000000</td>\n",
              "    </tr>\n",
              "  </tbody>\n",
              "</table>\n",
              "</div>"
            ],
            "text/plain": [
              "                 year  odometer     price  log10_price\n",
              "year         1.000000 -0.296023  0.235328     0.250018\n",
              "odometer    -0.296023  1.000000 -0.229949    -0.197119\n",
              "price        0.235328 -0.229949  1.000000     0.638131\n",
              "log10_price  0.250018 -0.197119  0.638131     1.000000"
            ]
          },
          "metadata": {
            "tags": []
          },
          "execution_count": 80
        }
      ]
    },
    {
      "cell_type": "code",
      "metadata": {
        "id": "8XHva4Cv4l9w",
        "colab_type": "code",
        "colab": {}
      },
      "source": [
        "# SCATTER PLOT OF CORRELATION OF EACH PARAMETER TO PRICE [YANBO]\n",
        "# REFER TO https://towardsdatascience.com/using-machine-learning-to-predict-home-prices-d5d534e42d38\n",
        "# pandas.dataframe.corr (check if can use)"
      ],
      "execution_count": 0,
      "outputs": []
    },
    {
      "cell_type": "code",
      "metadata": {
        "id": "6VLCHNRF7rhI",
        "colab_type": "code",
        "outputId": "072ee85d-89bb-4872-d55d-ad5571736dd7",
        "colab": {
          "base_uri": "https://localhost:8080/",
          "height": 206
        }
      },
      "source": [
        "moddf.head()"
      ],
      "execution_count": 0,
      "outputs": [
        {
          "output_type": "execute_result",
          "data": {
            "text/html": [
              "<div>\n",
              "<style scoped>\n",
              "    .dataframe tbody tr th:only-of-type {\n",
              "        vertical-align: middle;\n",
              "    }\n",
              "\n",
              "    .dataframe tbody tr th {\n",
              "        vertical-align: top;\n",
              "    }\n",
              "\n",
              "    .dataframe thead th {\n",
              "        text-align: right;\n",
              "    }\n",
              "</style>\n",
              "<table border=\"1\" class=\"dataframe\">\n",
              "  <thead>\n",
              "    <tr style=\"text-align: right;\">\n",
              "      <th></th>\n",
              "      <th>year</th>\n",
              "      <th>manufacturer</th>\n",
              "      <th>make</th>\n",
              "      <th>condition</th>\n",
              "      <th>cylinders</th>\n",
              "      <th>fuel</th>\n",
              "      <th>odometer</th>\n",
              "      <th>transmission</th>\n",
              "      <th>type</th>\n",
              "      <th>price</th>\n",
              "      <th>ln_price</th>\n",
              "      <th>log10_price</th>\n",
              "    </tr>\n",
              "  </thead>\n",
              "  <tbody>\n",
              "    <tr>\n",
              "      <th>0</th>\n",
              "      <td>2009.0</td>\n",
              "      <td>chevrolet</td>\n",
              "      <td>suburban lt2</td>\n",
              "      <td>good</td>\n",
              "      <td>8</td>\n",
              "      <td>gas</td>\n",
              "      <td>217743.0</td>\n",
              "      <td>automatic</td>\n",
              "      <td>SUV</td>\n",
              "      <td>9000</td>\n",
              "      <td>9.104980</td>\n",
              "      <td>3.954243</td>\n",
              "    </tr>\n",
              "    <tr>\n",
              "      <th>3</th>\n",
              "      <td>2002.0</td>\n",
              "      <td>gmc</td>\n",
              "      <td>sierra 1500</td>\n",
              "      <td>good</td>\n",
              "      <td>8</td>\n",
              "      <td>gas</td>\n",
              "      <td>195000.0</td>\n",
              "      <td>automatic</td>\n",
              "      <td>pickup</td>\n",
              "      <td>6000</td>\n",
              "      <td>8.699515</td>\n",
              "      <td>3.778151</td>\n",
              "    </tr>\n",
              "    <tr>\n",
              "      <th>4</th>\n",
              "      <td>2012.0</td>\n",
              "      <td>chevrolet</td>\n",
              "      <td>3500</td>\n",
              "      <td>excellent</td>\n",
              "      <td>8</td>\n",
              "      <td>diesel</td>\n",
              "      <td>178000.0</td>\n",
              "      <td>automatic</td>\n",
              "      <td>pickup</td>\n",
              "      <td>37000</td>\n",
              "      <td>10.518673</td>\n",
              "      <td>4.568202</td>\n",
              "    </tr>\n",
              "    <tr>\n",
              "      <th>12</th>\n",
              "      <td>2010.0</td>\n",
              "      <td>cadillac</td>\n",
              "      <td>srx luxury collection</td>\n",
              "      <td>good</td>\n",
              "      <td>8</td>\n",
              "      <td>gas</td>\n",
              "      <td>140000.0</td>\n",
              "      <td>automatic</td>\n",
              "      <td>SUV</td>\n",
              "      <td>9700</td>\n",
              "      <td>9.179881</td>\n",
              "      <td>3.986772</td>\n",
              "    </tr>\n",
              "    <tr>\n",
              "      <th>13</th>\n",
              "      <td>2001.0</td>\n",
              "      <td>chevrolet</td>\n",
              "      <td>silverado 1500</td>\n",
              "      <td>fair</td>\n",
              "      <td>8</td>\n",
              "      <td>gas</td>\n",
              "      <td>220000.0</td>\n",
              "      <td>automatic</td>\n",
              "      <td>pickup</td>\n",
              "      <td>2500</td>\n",
              "      <td>7.824046</td>\n",
              "      <td>3.397940</td>\n",
              "    </tr>\n",
              "  </tbody>\n",
              "</table>\n",
              "</div>"
            ],
            "text/plain": [
              "      year manufacturer                   make  condition cylinders    fuel  \\\n",
              "0   2009.0    chevrolet           suburban lt2       good         8     gas   \n",
              "3   2002.0          gmc            sierra 1500       good         8     gas   \n",
              "4   2012.0    chevrolet                   3500  excellent         8  diesel   \n",
              "12  2010.0     cadillac  srx luxury collection       good         8     gas   \n",
              "13  2001.0    chevrolet         silverado 1500       fair         8     gas   \n",
              "\n",
              "    odometer transmission    type  price   ln_price  log10_price  \n",
              "0   217743.0    automatic     SUV   9000   9.104980     3.954243  \n",
              "3   195000.0    automatic  pickup   6000   8.699515     3.778151  \n",
              "4   178000.0    automatic  pickup  37000  10.518673     4.568202  \n",
              "12  140000.0    automatic     SUV   9700   9.179881     3.986772  \n",
              "13  220000.0    automatic  pickup   2500   7.824046     3.397940  "
            ]
          },
          "metadata": {
            "tags": []
          },
          "execution_count": 82
        }
      ]
    },
    {
      "cell_type": "code",
      "metadata": {
        "id": "dGVabqHwNvp0",
        "colab_type": "code",
        "colab": {}
      },
      "source": [
        "#year\n",
        "a = moddf.year\n",
        "\n",
        "#manufacturer\n",
        "b = moddf.manufacturer\n",
        "\n",
        "#make\n",
        "c = moddf.make\n",
        "\n",
        "#condition\n",
        "d = moddf.condition\n",
        "\n",
        "#cylinders\n",
        "e = moddf.cylinders\n",
        "\n",
        "#fuel\n",
        "f = moddf.fuel\n",
        "\n",
        "#odometer\n",
        "g = moddf.odometer\n",
        "\n",
        "#transmission\n",
        "h = moddf.transmission\n",
        "\n",
        "#type\n",
        "i = moddf.type\n",
        "\n",
        "#price\n",
        "j = moddf.price"
      ],
      "execution_count": 0,
      "outputs": []
    },
    {
      "cell_type": "code",
      "metadata": {
        "id": "tHo_QoG5ON-C",
        "colab_type": "code",
        "outputId": "dace3a04-0c7f-4319-db62-7e1b85d639cb",
        "colab": {
          "base_uri": "https://localhost:8080/",
          "height": 139
        }
      },
      "source": [
        "# Minimum price of the data\n",
        "minimum_price = np.amin(j)\n",
        "\n",
        "# Maximum price of the data\n",
        "maximum_price = np.amax(j)\n",
        "\n",
        "# Mean price of the data\n",
        "mean_price = np.mean(j)\n",
        "\n",
        "# Median price of the data\n",
        "median_price = np.median(j)\n",
        "\n",
        "# Standard deviation of prices of the data\n",
        "std_price = np.std(j)\n",
        "\n",
        "# Show the calculated statistics\n",
        "print(\"Statistics for Used Cars dataset:\\n\")\n",
        "print(\"Minimum price: ${}\".format(minimum_price)) \n",
        "print(\"Maximum price: ${}\".format(maximum_price))\n",
        "print(\"Mean price: ${}\".format(mean_price))\n",
        "print(\"Median price ${}\".format(median_price))\n",
        "print(\"Standard deviation of prices: ${}\".format(std_price))"
      ],
      "execution_count": 0,
      "outputs": [
        {
          "output_type": "stream",
          "text": [
            "Statistics for Used Cars dataset:\n",
            "\n",
            "Minimum price: $1000\n",
            "Maximum price: $92500\n",
            "Mean price: $14344.84442169908\n",
            "Median price $11500.0\n",
            "Standard deviation of prices: $11121.92032755371\n"
          ],
          "name": "stdout"
        }
      ]
    },
    {
      "cell_type": "code",
      "metadata": {
        "id": "jGv9J-_GOmGf",
        "colab_type": "code",
        "outputId": "d9eab2a6-134a-48d6-e7bf-848f3630059d",
        "colab": {
          "base_uri": "https://localhost:8080/",
          "height": 283
        }
      },
      "source": [
        "\n",
        "x = moddf.log10_price\n",
        "plt.hist(x, color= 'red')\n",
        "plt.axvline(x.mean(), color='k', linestyle='dashed', linewidth=1)\n",
        "min_ylim, max_ylim = plt.ylim()\n",
        "plt.text(x.mean()*1.005, max_ylim*0.8, 'Mean: {:.8f}'.format(x.mean()), color = 'black')"
      ],
      "execution_count": 0,
      "outputs": [
        {
          "output_type": "execute_result",
          "data": {
            "text/plain": [
              "Text(4.039917246308959, 486.36000000000007, 'Mean: 4.01981816')"
            ]
          },
          "metadata": {
            "tags": []
          },
          "execution_count": 85
        },
        {
          "output_type": "display_data",
          "data": {
            "image/png": "[encoded data removed]",
            "text/plain": [
              "<Figure size 432x288 with 1 Axes>"
            ]
          },
          "metadata": {
            "tags": []
          }
        }
      ]
    },
    {
      "cell_type": "code",
      "metadata": {
        "id": "542BHbGGqrnF",
        "colab_type": "code",
        "outputId": "17ab0d09-3154-4751-f67f-d06ae0648bb6",
        "colab": {
          "base_uri": "https://localhost:8080/",
          "height": 34
        }
      },
      "source": [
        "moddf.shape"
      ],
      "execution_count": 0,
      "outputs": [
        {
          "output_type": "execute_result",
          "data": {
            "text/plain": [
              "(2931, 12)"
            ]
          },
          "metadata": {
            "tags": []
          },
          "execution_count": 86
        }
      ]
    },
    {
      "cell_type": "markdown",
      "metadata": {
        "id": "NELAu6h57sH-",
        "colab_type": "text"
      },
      "source": [
        "## **Model**"
      ]
    },
    {
      "cell_type": "code",
      "metadata": {
        "id": "_RIpqc-39oi-",
        "colab_type": "code",
        "colab": {}
      },
      "source": [
        "# SPLIT TO TRAIN AND TEST (75/25)\n",
        "# training set is called train\n",
        "# test set is called test\n",
        "\n",
        "from sklearn.model_selection import train_test_split\n",
        "from sklearn import preprocessing\n",
        "from sklearn.preprocessing import LabelEncoder\n",
        "\n",
        "le = preprocessing.LabelEncoder()\n",
        "oe = preprocessing.OneHotEncoder()\n",
        "# split into dependent and independent variables\n",
        "\n",
        "# remember to rename type\n",
        "from collections import defaultdict\n",
        "\n"
      ],
      "execution_count": 0,
      "outputs": []
    },
    {
      "cell_type": "code",
      "metadata": {
        "id": "WZz5wbtyuW8t",
        "colab_type": "code",
        "colab": {}
      },
      "source": [
        "class MultiColumnLabelEncoder:\n",
        "    def __init__(self,columns = None):\n",
        "        self.columns = columns # array of column names to encode\n",
        "\n",
        "    def fit(self,X,y=None):\n",
        "        return self # not relevant here\n",
        "\n",
        "    def transform(self,X):\n",
        "        '''\n",
        "        Transforms columns of X specified in self.columns using\n",
        "        LabelEncoder(). If no columns specified, transforms all\n",
        "        columns in X.\n",
        "        '''\n",
        "        output = X.copy()\n",
        "        if self.columns is not None:\n",
        "            for col in self.columns:\n",
        "                output[col] = LabelEncoder().fit_transform(output[col])\n",
        "        else:\n",
        "            for colname,col in output.iteritems():\n",
        "                output[colname] = LabelEncoder().fit_transform(col)\n",
        "        return output\n",
        "\n",
        "    def fit_transform(self,X,y=None):\n",
        "        return self.fit(X,y).transform(X)"
      ],
      "execution_count": 0,
      "outputs": []
    },
    {
      "cell_type": "code",
      "metadata": {
        "id": "PXuL85JUvT23",
        "colab_type": "code",
        "outputId": "23ada1b2-06d3-4607-dc6b-78fd068f95bd",
        "colab": {
          "base_uri": "https://localhost:8080/",
          "height": 424
        }
      },
      "source": [
        "#obtain an encoded dataset\n",
        "MultiColumnLabelEncoder(columns = ['year', 'manufacturer', 'make', 'condition', 'cylinders', 'fuel', 'odometer', 'transmission', 'type']).fit_transform(moddf)"
      ],
      "execution_count": 0,
      "outputs": [
        {
          "output_type": "execute_result",
          "data": {
            "text/html": [
              "<div>\n",
              "<style scoped>\n",
              "    .dataframe tbody tr th:only-of-type {\n",
              "        vertical-align: middle;\n",
              "    }\n",
              "\n",
              "    .dataframe tbody tr th {\n",
              "        vertical-align: top;\n",
              "    }\n",
              "\n",
              "    .dataframe thead th {\n",
              "        text-align: right;\n",
              "    }\n",
              "</style>\n",
              "<table border=\"1\" class=\"dataframe\">\n",
              "  <thead>\n",
              "    <tr style=\"text-align: right;\">\n",
              "      <th></th>\n",
              "      <th>year</th>\n",
              "      <th>manufacturer</th>\n",
              "      <th>make</th>\n",
              "      <th>condition</th>\n",
              "      <th>cylinders</th>\n",
              "      <th>fuel</th>\n",
              "      <th>odometer</th>\n",
              "      <th>transmission</th>\n",
              "      <th>type</th>\n",
              "      <th>price</th>\n",
              "      <th>ln_price</th>\n",
              "      <th>log10_price</th>\n",
              "    </tr>\n",
              "  </thead>\n",
              "  <tbody>\n",
              "    <tr>\n",
              "      <th>0</th>\n",
              "      <td>53</td>\n",
              "      <td>5</td>\n",
              "      <td>1133</td>\n",
              "      <td>2</td>\n",
              "      <td>6</td>\n",
              "      <td>2</td>\n",
              "      <td>1916</td>\n",
              "      <td>0</td>\n",
              "      <td>0</td>\n",
              "      <td>9000</td>\n",
              "      <td>9.104980</td>\n",
              "      <td>3.954243</td>\n",
              "    </tr>\n",
              "    <tr>\n",
              "      <th>3</th>\n",
              "      <td>46</td>\n",
              "      <td>12</td>\n",
              "      <td>1025</td>\n",
              "      <td>2</td>\n",
              "      <td>6</td>\n",
              "      <td>2</td>\n",
              "      <td>1843</td>\n",
              "      <td>0</td>\n",
              "      <td>8</td>\n",
              "      <td>6000</td>\n",
              "      <td>8.699515</td>\n",
              "      <td>3.778151</td>\n",
              "    </tr>\n",
              "    <tr>\n",
              "      <th>4</th>\n",
              "      <td>56</td>\n",
              "      <td>5</td>\n",
              "      <td>82</td>\n",
              "      <td>0</td>\n",
              "      <td>6</td>\n",
              "      <td>0</td>\n",
              "      <td>1743</td>\n",
              "      <td>0</td>\n",
              "      <td>8</td>\n",
              "      <td>37000</td>\n",
              "      <td>10.518673</td>\n",
              "      <td>4.568202</td>\n",
              "    </tr>\n",
              "    <tr>\n",
              "      <th>12</th>\n",
              "      <td>54</td>\n",
              "      <td>4</td>\n",
              "      <td>1121</td>\n",
              "      <td>2</td>\n",
              "      <td>6</td>\n",
              "      <td>2</td>\n",
              "      <td>1480</td>\n",
              "      <td>0</td>\n",
              "      <td>0</td>\n",
              "      <td>9700</td>\n",
              "      <td>9.179881</td>\n",
              "      <td>3.986772</td>\n",
              "    </tr>\n",
              "    <tr>\n",
              "      <th>13</th>\n",
              "      <td>45</td>\n",
              "      <td>5</td>\n",
              "      <td>1051</td>\n",
              "      <td>1</td>\n",
              "      <td>6</td>\n",
              "      <td>2</td>\n",
              "      <td>1921</td>\n",
              "      <td>0</td>\n",
              "      <td>8</td>\n",
              "      <td>2500</td>\n",
              "      <td>7.824046</td>\n",
              "      <td>3.397940</td>\n",
              "    </tr>\n",
              "    <tr>\n",
              "      <th>...</th>\n",
              "      <td>...</td>\n",
              "      <td>...</td>\n",
              "      <td>...</td>\n",
              "      <td>...</td>\n",
              "      <td>...</td>\n",
              "      <td>...</td>\n",
              "      <td>...</td>\n",
              "      <td>...</td>\n",
              "      <td>...</td>\n",
              "      <td>...</td>\n",
              "      <td>...</td>\n",
              "      <td>...</td>\n",
              "    </tr>\n",
              "    <tr>\n",
              "      <th>10570</th>\n",
              "      <td>57</td>\n",
              "      <td>34</td>\n",
              "      <td>735</td>\n",
              "      <td>1</td>\n",
              "      <td>3</td>\n",
              "      <td>2</td>\n",
              "      <td>1290</td>\n",
              "      <td>0</td>\n",
              "      <td>9</td>\n",
              "      <td>4250</td>\n",
              "      <td>8.354674</td>\n",
              "      <td>3.628389</td>\n",
              "    </tr>\n",
              "    <tr>\n",
              "      <th>10573</th>\n",
              "      <td>60</td>\n",
              "      <td>23</td>\n",
              "      <td>665</td>\n",
              "      <td>2</td>\n",
              "      <td>3</td>\n",
              "      <td>2</td>\n",
              "      <td>765</td>\n",
              "      <td>0</td>\n",
              "      <td>0</td>\n",
              "      <td>23999</td>\n",
              "      <td>10.085767</td>\n",
              "      <td>4.380193</td>\n",
              "    </tr>\n",
              "    <tr>\n",
              "      <th>10574</th>\n",
              "      <td>49</td>\n",
              "      <td>5</td>\n",
              "      <td>1051</td>\n",
              "      <td>0</td>\n",
              "      <td>6</td>\n",
              "      <td>2</td>\n",
              "      <td>859</td>\n",
              "      <td>0</td>\n",
              "      <td>10</td>\n",
              "      <td>10900</td>\n",
              "      <td>9.296518</td>\n",
              "      <td>4.037426</td>\n",
              "    </tr>\n",
              "    <tr>\n",
              "      <th>10582</th>\n",
              "      <td>61</td>\n",
              "      <td>5</td>\n",
              "      <td>346</td>\n",
              "      <td>2</td>\n",
              "      <td>3</td>\n",
              "      <td>2</td>\n",
              "      <td>1314</td>\n",
              "      <td>0</td>\n",
              "      <td>9</td>\n",
              "      <td>9999</td>\n",
              "      <td>9.210240</td>\n",
              "      <td>3.999957</td>\n",
              "    </tr>\n",
              "    <tr>\n",
              "      <th>10583</th>\n",
              "      <td>60</td>\n",
              "      <td>11</td>\n",
              "      <td>635</td>\n",
              "      <td>2</td>\n",
              "      <td>3</td>\n",
              "      <td>3</td>\n",
              "      <td>1342</td>\n",
              "      <td>0</td>\n",
              "      <td>9</td>\n",
              "      <td>9999</td>\n",
              "      <td>9.210240</td>\n",
              "      <td>3.999957</td>\n",
              "    </tr>\n",
              "  </tbody>\n",
              "</table>\n",
              "<p>2931 rows × 12 columns</p>\n",
              "</div>"
            ],
            "text/plain": [
              "       year  manufacturer  make  condition  cylinders  fuel  odometer  \\\n",
              "0        53             5  1133          2          6     2      1916   \n",
              "3        46            12  1025          2          6     2      1843   \n",
              "4        56             5    82          0          6     0      1743   \n",
              "12       54             4  1121          2          6     2      1480   \n",
              "13       45             5  1051          1          6     2      1921   \n",
              "...     ...           ...   ...        ...        ...   ...       ...   \n",
              "10570    57            34   735          1          3     2      1290   \n",
              "10573    60            23   665          2          3     2       765   \n",
              "10574    49             5  1051          0          6     2       859   \n",
              "10582    61             5   346          2          3     2      1314   \n",
              "10583    60            11   635          2          3     3      1342   \n",
              "\n",
              "       transmission  type  price   ln_price  log10_price  \n",
              "0                 0     0   9000   9.104980     3.954243  \n",
              "3                 0     8   6000   8.699515     3.778151  \n",
              "4                 0     8  37000  10.518673     4.568202  \n",
              "12                0     0   9700   9.179881     3.986772  \n",
              "13                0     8   2500   7.824046     3.397940  \n",
              "...             ...   ...    ...        ...          ...  \n",
              "10570             0     9   4250   8.354674     3.628389  \n",
              "10573             0     0  23999  10.085767     4.380193  \n",
              "10574             0    10  10900   9.296518     4.037426  \n",
              "10582             0     9   9999   9.210240     3.999957  \n",
              "10583             0     9   9999   9.210240     3.999957  \n",
              "\n",
              "[2931 rows x 12 columns]"
            ]
          },
          "metadata": {
            "tags": []
          },
          "execution_count": 89
        }
      ]
    },
    {
      "cell_type": "code",
      "metadata": {
        "id": "Gjr3UUbZvXep",
        "colab_type": "code",
        "colab": {}
      },
      "source": [
        "X = moddf[['year', 'manufacturer', 'make', 'condition', 'cylinders', 'fuel', 'odometer', 'transmission', 'type']]\n",
        "y = moddf['price']\n",
        "\n",
        "modX = MultiColumnLabelEncoder(columns = ['year', 'manufacturer', 'make', 'condition', 'cylinders', 'fuel', 'odometer', 'transmission', 'type']).fit_transform(X)\n",
        "\n"
      ],
      "execution_count": 0,
      "outputs": []
    },
    {
      "cell_type": "code",
      "metadata": {
        "id": "E_gkPIGiWIut",
        "colab_type": "code",
        "colab": {}
      },
      "source": [
        "X_train, X_test, y_train, y_test = train_test_split(modX, y, test_size=0.25,random_state = 5)"
      ],
      "execution_count": 0,
      "outputs": []
    },
    {
      "cell_type": "code",
      "metadata": {
        "id": "I8ieqxSe7wzP",
        "colab_type": "code",
        "colab": {}
      },
      "source": [
        "# REGRESSION (Yan Bo)\n",
        "#base on the scatter plot the relationship is not obvious hence linear regression model may not work very well in this case.\n",
        "#try SVM instead\n",
        "#binary relevance?\n",
        "#10-fold validation #sklearn ensemble methods"
      ],
      "execution_count": 0,
      "outputs": []
    },
    {
      "cell_type": "code",
      "metadata": {
        "id": "ipauAS4B8H4Q",
        "colab_type": "code",
        "outputId": "eb3860ad-d2f5-4275-ead0-61c30363fa5d",
        "colab": {
          "base_uri": "https://localhost:8080/",
          "height": 34
        }
      },
      "source": [
        "# DecisionTree Regressor (Chels)\n",
        "from sklearn.tree import DecisionTreeRegressor\n",
        "from sklearn import metrics\n",
        "\n",
        "clf=DecisionTreeRegressor(random_state=0, max_features='sqrt')\n",
        "clf.fit(X_train, y_train)\n",
        "y_pred=clf.predict(X_test)\n",
        "accuracy=metrics.accuracy_score(y_test, y_pred)\n",
        "print(\"Accuracy:\", accuracy)\n"
      ],
      "execution_count": 0,
      "outputs": [
        {
          "output_type": "stream",
          "text": [
            "Accuracy: 0.1377899045020464\n"
          ],
          "name": "stdout"
        }
      ]
    },
    {
      "cell_type": "code",
      "metadata": {
        "id": "hxTJaqESnNb9",
        "colab_type": "code",
        "outputId": "c5a9be6b-1524-4b25-9316-69bf8df90535",
        "colab": {
          "base_uri": "https://localhost:8080/",
          "height": 333
        }
      },
      "source": [
        "#Decision Tree Regressor\n",
        "from sklearn.preprocessing import StandardScaler\n",
        "\n",
        "scaler = StandardScaler()\n",
        "scaler.fit(X_train)\n",
        "X_train = scaler.transform(X_train)\n",
        "X_test = scaler.transform(X_test)\n",
        "\n",
        "model = DecisionTreeRegressor()\n",
        "\n",
        "estimators = np.arange(10, 200, 10)\n",
        "scores = []\n",
        "for n in estimators:\n",
        "    model.fit(X_train, y_train)\n",
        "    scores.append(model.score(X_test, y_test))\n",
        "plt.title(\"Effect of n_estimators\")\n",
        "plt.xlabel(\"n_estimator\")\n",
        "plt.ylabel(\"score\")\n",
        "plt.plot(estimators, scores)\n",
        "print(scores)"
      ],
      "execution_count": 0,
      "outputs": [
        {
          "output_type": "stream",
          "text": [
            "[0.6766687320146054, 0.6719725256154966, 0.6694548087512571, 0.6761959764430859, 0.6775852900947221, 0.682275202715203, 0.6623021348409674, 0.674947706150312, 0.6885601485082262, 0.6685564119850433, 0.6757884322652683, 0.6830847992234542, 0.6669857295841612, 0.6684491374796527, 0.6743060861395329, 0.6689663029243309, 0.6707551244399372, 0.6834362772378748, 0.6739338345136376]\n"
          ],
          "name": "stdout"
        },
        {
          "output_type": "display_data",
          "data": {
            "image/png": "[encoded data removed]",
            "text/plain": [
              "<Figure size 432x288 with 1 Axes>"
            ]
          },
          "metadata": {
            "tags": []
          }
        }
      ]
    },
    {
      "cell_type": "code",
      "metadata": {
        "id": "bsSeF5nQnZxE",
        "colab_type": "code",
        "colab": {}
      },
      "source": [
        ""
      ],
      "execution_count": 0,
      "outputs": []
    },
    {
      "cell_type": "code",
      "metadata": {
        "id": "0fZQKsNmDZgx",
        "colab_type": "code",
        "outputId": "5250f937-13ad-47e2-b0ba-bcb534c75709",
        "colab": {
          "base_uri": "https://localhost:8080/",
          "height": 34
        }
      },
      "source": [
        "# DecisionTree Classifier (Chels)\n",
        "from sklearn.tree import DecisionTreeClassifier\n",
        "from sklearn import metrics\n",
        "\n",
        "clf=DecisionTreeClassifier(random_state=0, max_features='sqrt')\n",
        "clf.fit(X_train, y_train)\n",
        "y_pred=clf.predict(X_test)\n",
        "accuracy=metrics.accuracy_score(y_test, y_pred)\n",
        "\n",
        "print(\"Accuracy:\", accuracy)\n",
        "\n"
      ],
      "execution_count": 0,
      "outputs": [
        {
          "output_type": "stream",
          "text": [
            "Accuracy: 0.08858603066439523\n"
          ],
          "name": "stdout"
        }
      ]
    },
    {
      "cell_type": "code",
      "metadata": {
        "id": "6bjq64zCsxFg",
        "colab_type": "code",
        "outputId": "c8babdc5-7420-42fa-c5e0-bc2b5d02408b",
        "colab": {
          "base_uri": "https://localhost:8080/",
          "height": 333
        }
      },
      "source": [
        "#Decision Tree Classifier\n",
        "from sklearn.Classifier import StandardScaler\n",
        "\n",
        "scaler = StandardScaler()\n",
        "scaler.fit(X_train)\n",
        "X_train = scaler.transform(X_train)\n",
        "X_test = scaler.transform(X_test)\n",
        "\n",
        "model = DecisionTreeClassifier()\n",
        "\n",
        "estimators = np.arange(10, 200, 10)\n",
        "scores = []\n",
        "for n in estimators:\n",
        "    model.fit(X_train, y_train)\n",
        "    scores.append(model.score(X_test, y_test))\n",
        "plt.title(\"Effect of n_estimators\")\n",
        "plt.xlabel(\"n_estimator\")\n",
        "plt.ylabel(\"score\")\n",
        "plt.plot(estimators, scores)\n",
        "print(scores)"
      ],
      "execution_count": 0,
      "outputs": [
        {
          "output_type": "stream",
          "text": [
            "[0.09369676320272573, 0.08858603066439523, 0.08858603066439523, 0.0919931856899489, 0.0868824531516184, 0.08517887563884156, 0.08517887563884156, 0.0919931856899489, 0.09028960817717206, 0.09028960817717206, 0.0868824531516184, 0.0868824531516184, 0.0919931856899489, 0.0868824531516184, 0.0868824531516184, 0.0868824531516184, 0.09028960817717206, 0.08517887563884156, 0.09028960817717206]\n"
          ],
          "name": "stdout"
        },
        {
          "output_type": "display_data",
          "data": {
            "image/png": "[encoded data removed]",
            "text/plain": [
              "<Figure size 432x288 with 1 Axes>"
            ]
          },
          "metadata": {
            "tags": []
          }
        }
      ]
    },
    {
      "cell_type": "code",
      "metadata": {
        "id": "TydcW8Ms9mM0",
        "colab_type": "code",
        "outputId": "c1c5098b-86c1-48cd-849e-1d24fb4679e5",
        "colab": {
          "base_uri": "https://localhost:8080/",
          "height": 139
        }
      },
      "source": [
        "# RandomForest (Dan)\n",
        "\n",
        "from sklearn.ensemble import RandomForestClassifier\n",
        "from sklearn import metrics\n",
        "\n",
        "# Create a Gaussian Classifier\n",
        "clf = RandomForestClassifier(n_estimators=50, random_state=0, max_features = 'sqrt', n_jobs=4, verbose =1)\n",
        "\n",
        "# train the model using the training sets y_pred = clif.predict(X_test)\n",
        "#clf.fit(X_train, y_train)\n",
        "clf.fit(X_train, y_train)\n",
        "\n",
        "# prediction on test set\n",
        "y_pred = clf.predict(X_test)\n",
        "\n",
        "accuracy = metrics.accuracy_score(y_test, y_pred)\n",
        "print(\"Accuracy:\", accuracy)"
      ],
      "execution_count": 0,
      "outputs": [
        {
          "output_type": "stream",
          "text": [
            "[Parallel(n_jobs=4)]: Using backend ThreadingBackend with 4 concurrent workers.\n",
            "[Parallel(n_jobs=4)]: Done  42 tasks      | elapsed:    1.0s\n",
            "[Parallel(n_jobs=4)]: Done  50 out of  50 | elapsed:    1.1s finished\n",
            "[Parallel(n_jobs=4)]: Using backend ThreadingBackend with 4 concurrent workers.\n"
          ],
          "name": "stderr"
        },
        {
          "output_type": "stream",
          "text": [
            "Accuracy: 0.13233287858117326\n"
          ],
          "name": "stdout"
        },
        {
          "output_type": "stream",
          "text": [
            "[Parallel(n_jobs=4)]: Done  42 tasks      | elapsed:    0.1s\n",
            "[Parallel(n_jobs=4)]: Done  50 out of  50 | elapsed:    0.1s finished\n"
          ],
          "name": "stderr"
        }
      ]
    },
    {
      "cell_type": "code",
      "metadata": {
        "id": "2axfhAQtRtxd",
        "colab_type": "code",
        "outputId": "2a1696d3-057b-445d-ad10-e9a299319f58",
        "colab": {
          "base_uri": "https://localhost:8080/",
          "height": 313
        }
      },
      "source": [
        "#Random Forest Regressor\n",
        "from sklearn.preprocessing import StandardScaler\n",
        "from sklearn.ensemble import RandomForestRegressor \n",
        "\n",
        "scaler = StandardScaler()\n",
        "scaler.fit(X_train)\n",
        "X_train = scaler.transform(X_train)\n",
        "X_test = scaler.transform(X_test)\n",
        "\n",
        "model = RandomForestRegressor(n_jobs=-1)\n",
        "\n",
        "estimators = np.arange(10, 200, 10)\n",
        "scores = []\n",
        "for n in estimators:\n",
        "    model.set_params(n_estimators=n)\n",
        "    model.fit(X_train, y_train)\n",
        "    scores.append(model.score(X_test, y_test))\n",
        "plt.title(\"Effect of n_estimators\")\n",
        "plt.xlabel(\"n_estimator\")\n",
        "plt.ylabel(\"score\")\n",
        "plt.plot(estimators, scores)"
      ],
      "execution_count": 0,
      "outputs": [
        {
          "output_type": "execute_result",
          "data": {
            "text/plain": [
              "[<matplotlib.lines.Line2D at 0x7fdaae02afd0>]"
            ]
          },
          "metadata": {
            "tags": []
          },
          "execution_count": 95
        },
        {
          "output_type": "display_data",
          "data": {
            "image/png": "[encoded data removed]",
            "text/plain": [
              "<Figure size 432x288 with 1 Axes>"
            ]
          },
          "metadata": {
            "tags": []
          }
        }
      ]
    },
    {
      "cell_type": "code",
      "metadata": {
        "id": "YQR5xKURR4_p",
        "colab_type": "code",
        "colab": {}
      },
      "source": [
        "scores"
      ],
      "execution_count": 0,
      "outputs": []
    },
    {
      "cell_type": "code",
      "metadata": {
        "id": "z8NR3OQkN0v6",
        "colab_type": "code",
        "outputId": "02e782ca-b17a-4908-e4b0-a3dc9f50f73b",
        "colab": {
          "base_uri": "https://localhost:8080/",
          "height": 232
        }
      },
      "source": [
        "# SVM\n",
        "\n",
        "from sklearn import svm\n",
        "clf=svm.SVR(kernel='poly')\n",
        "clf.fit(X_train, y_train)\n",
        "y_pred=clf.predict(X_test)\n",
        "\n",
        "accuracy = metrics.accuracy_score(y_test, y_pred)\n",
        "print(\"Accuracy:\", accuracy)"
      ],
      "execution_count": 0,
      "outputs": [
        {
          "output_type": "error",
          "ename": "NameError",
          "evalue": "ignored",
          "traceback": [
            "\u001b[0;31m---------------------------------------------------------------------------\u001b[0m",
            "\u001b[0;31mNameError\u001b[0m                                 Traceback (most recent call last)",
            "\u001b[0;32m<ipython-input-8-067d9bf618e7>\u001b[0m in \u001b[0;36m<module>\u001b[0;34m()\u001b[0m\n\u001b[1;32m      2\u001b[0m \u001b[0;32mfrom\u001b[0m \u001b[0msklearn\u001b[0m \u001b[0;32mimport\u001b[0m \u001b[0msvm\u001b[0m\u001b[0;34m\u001b[0m\u001b[0;34m\u001b[0m\u001b[0m\n\u001b[1;32m      3\u001b[0m \u001b[0mclf\u001b[0m\u001b[0;34m=\u001b[0m\u001b[0msvm\u001b[0m\u001b[0;34m.\u001b[0m\u001b[0mSVR\u001b[0m\u001b[0;34m(\u001b[0m\u001b[0mkernel\u001b[0m\u001b[0;34m=\u001b[0m\u001b[0;34m'poly'\u001b[0m\u001b[0;34m)\u001b[0m\u001b[0;34m\u001b[0m\u001b[0;34m\u001b[0m\u001b[0m\n\u001b[0;32m----> 4\u001b[0;31m \u001b[0mclf\u001b[0m\u001b[0;34m.\u001b[0m\u001b[0mfit\u001b[0m\u001b[0;34m(\u001b[0m\u001b[0mX_train\u001b[0m\u001b[0;34m,\u001b[0m \u001b[0my_train\u001b[0m\u001b[0;34m)\u001b[0m\u001b[0;34m\u001b[0m\u001b[0;34m\u001b[0m\u001b[0m\n\u001b[0m\u001b[1;32m      5\u001b[0m \u001b[0my_pred\u001b[0m\u001b[0;34m=\u001b[0m\u001b[0mclf\u001b[0m\u001b[0;34m.\u001b[0m\u001b[0mpredict\u001b[0m\u001b[0;34m(\u001b[0m\u001b[0mX_test\u001b[0m\u001b[0;34m)\u001b[0m\u001b[0;34m\u001b[0m\u001b[0;34m\u001b[0m\u001b[0m\n\u001b[1;32m      6\u001b[0m \u001b[0;34m\u001b[0m\u001b[0m\n",
            "\u001b[0;31mNameError\u001b[0m: name 'X_train' is not defined"
          ]
        }
      ]
    },
    {
      "cell_type": "code",
      "metadata": {
        "id": "rZbbwRWAyANh",
        "colab_type": "code",
        "colab": {}
      },
      "source": [
        ""
      ],
      "execution_count": 0,
      "outputs": []
    },
    {
      "cell_type": "code",
      "metadata": {
        "id": "JvA5JxYjT613",
        "colab_type": "code",
        "colab": {}
      },
      "source": [
        "import os \n",
        "import random\n",
        "import numpy as np  # lineer cebir\n",
        "import pandas as pd  # veri işeme / input output dosya işlemleri\n",
        "import matplotlib.pyplot as plt\n",
        "from IPython.display import display\n",
        "\n",
        "\n",
        "from sklearn import linear_model\n",
        "from sklearn.tree import DecisionTreeRegressor\n",
        "from sklearn.ensemble import RandomForestRegressor\n",
        "from sklearn.metrics import mean_absolute_error\n",
        "from sklearn.metrics import mean_squared_error\n",
        "from sklearn.model_selection import train_test_split\n",
        "\n",
        "X_train_val, X_test, y_train_val, y_test = \\\n",
        "train_test_split(modX, y, test_size = 0.2, random_state = 0)\n",
        "\n",
        "X_train=np.array(X_train) #listeler numpy dizilerine dönüştürülür. Sequential için\n",
        "y_train=np.array(y_train)\n",
        "\n",
        "X_test=np.array(X_test)\n",
        "y_test=np.array(y_test)"
      ],
      "execution_count": 0,
      "outputs": []
    },
    {
      "cell_type": "code",
      "metadata": {
        "id": "qoB1wtD9x-ly",
        "colab_type": "code",
        "colab": {}
      },
      "source": [
        ""
      ],
      "execution_count": 0,
      "outputs": []
    },
    {
      "cell_type": "code",
      "metadata": {
        "id": "iIF7HMA_0Sgm",
        "colab_type": "code",
        "outputId": "45293b9a-0609-4cf8-e9cd-435f23d40a90",
        "colab": {
          "base_uri": "https://localhost:8080/",
          "height": 399
        }
      },
      "source": [
        "from keras.models import Sequential\n",
        "from keras.layers import Dense, Activation, Dropout\n",
        "from keras.callbacks import ModelCheckpoint, Callback\n",
        "from keras import metrics\n",
        "\n",
        "loss_function='mean_absolute_error' \n",
        "#kayıp fonksiyonu mean absolute error olarak seçilir.\n",
        "\n",
        "price_predictor = Sequential()  \n",
        "#sequential modeli, compile-fit-evaluate-predict methodlarını kullanmak için oluşturuluyor\n",
        "#relu aktivasyonu ile nöron ağı katmanları oluşturuluyor\n",
        "price_predictor.add(Dense(128,activation='relu', input_dim=9))  \n",
        "price_predictor.add(Dense(64))\n",
        "price_predictor.add(Dense(32,activation='relu'))\n",
        "price_predictor.add(Dense(8))\n",
        "price_predictor.add(Dense(1))\n",
        "price_predictor.summary()\n",
        "\n",
        "price_predictor.compile(optimizer='Adam', loss=loss_function, metrics=['acc'])\n",
        "checkpointer = ModelCheckpoint(filepath='price_model_best.hdf5', \n",
        "                               verbose=1, save_best_only=True)\n",
        "price_predictor.fit(X_train, y_train, \n",
        "          epochs=20, batch_size=500, callbacks=[checkpointer],verbose=0 ) \n",
        "#fit, modeli verilen epoch sayısına göre eğitir.\n",
        "\n",
        "price_predictor.load_weights('price_model_best.hdf5')\n",
        "score=price_predictor.evaluate(X_test,y_test,verbose=1) \n",
        "display(\"The latest model scores {} for test data.\".format(score))\n",
        "\n",
        "\n"
      ],
      "execution_count": 0,
      "outputs": [
        {
          "output_type": "stream",
          "text": [
            "Model: \"sequential_4\"\n",
            "_________________________________________________________________\n",
            "Layer (type)                 Output Shape              Param #   \n",
            "=================================================================\n",
            "dense_16 (Dense)             (None, 128)               1280      \n",
            "_________________________________________________________________\n",
            "dense_17 (Dense)             (None, 64)                8256      \n",
            "_________________________________________________________________\n",
            "dense_18 (Dense)             (None, 32)                2080      \n",
            "_________________________________________________________________\n",
            "dense_19 (Dense)             (None, 8)                 264       \n",
            "_________________________________________________________________\n",
            "dense_20 (Dense)             (None, 1)                 9         \n",
            "=================================================================\n",
            "Total params: 11,889\n",
            "Trainable params: 11,889\n",
            "Non-trainable params: 0\n",
            "_________________________________________________________________\n"
          ],
          "name": "stdout"
        },
        {
          "output_type": "stream",
          "text": [
            "/usr/local/lib/python3.6/dist-packages/keras/callbacks.py:707: RuntimeWarning: Can save best model only with val_loss available, skipping.\n",
            "  'skipping.' % (self.monitor), RuntimeWarning)\n"
          ],
          "name": "stderr"
        },
        {
          "output_type": "stream",
          "text": [
            "587/587 [==============================] - 0s 265us/step\n"
          ],
          "name": "stdout"
        },
        {
          "output_type": "display_data",
          "data": {
            "text/plain": [
              "'The latest model scores [9184.13319014853, 0.0] for test data.'"
            ]
          },
          "metadata": {
            "tags": []
          }
        }
      ]
    },
    {
      "cell_type": "code",
      "metadata": {
        "id": "NAz6gdxmA44o",
        "colab_type": "code",
        "outputId": "4ad2ab13-b0a3-460e-f287-0ea6da6aa80a",
        "colab": {
          "base_uri": "https://localhost:8080/",
          "height": 282
        }
      },
      "source": [
        "import random\n",
        "\n",
        "num_samples=40\n",
        "idx=random.sample(range(len(y_test)),num_samples) \n",
        "plt.plot(range(num_samples),y_test[idx],'ro-')\n",
        "plt.plot(range(num_samples),price_prediction[idx],'bx-')\n",
        "plt.ylabel(\"price\")\n",
        "plt.legend([\"actual price\",'predicted price','mean price'])"
      ],
      "execution_count": 0,
      "outputs": [
        {
          "output_type": "execute_result",
          "data": {
            "text/plain": [
              "<matplotlib.legend.Legend at 0x7fd9ebcf33c8>"
            ]
          },
          "metadata": {
            "tags": []
          },
          "execution_count": 113
        },
        {
          "output_type": "display_data",
          "data": {
            "image/png": "[encoded data removed]",
            "text/plain": [
              "<Figure size 432x288 with 1 Axes>"
            ]
          },
          "metadata": {
            "tags": []
          }
        }
      ]
    },
    {
      "cell_type": "code",
      "metadata": {
        "id": "_nfg-2sYCuFD",
        "colab_type": "code",
        "outputId": "41ad3fa5-d779-4160-b700-197e72226c9c",
        "colab": {
          "base_uri": "https://localhost:8080/",
          "height": 124
        }
      },
      "source": [
        "\n",
        "from keras import backend as K\n",
        "\n",
        "def recall_m(y_true, y_pred):\n",
        "        true_positives = K.sum(K.round(K.clip(y_true * y_pred, 0, 1)))\n",
        "        possible_positives = K.sum(K.round(K.clip(y_true, 0, 1)))\n",
        "        recall = true_positives / (possible_positives + K.epsilon())\n",
        "        return recall\n",
        "\n",
        "def precision_m(y_true, y_pred):\n",
        "        true_positives = K.sum(K.round(K.clip(y_true * y_pred, 0, 1)))\n",
        "        predicted_positives = K.sum(K.round(K.clip(y_pred, 0, 1)))\n",
        "        precision = true_positives / (predicted_positives + K.epsilon())\n",
        "        return precision\n",
        "\n",
        "def f1_m(y_true, y_pred):\n",
        "    precision = precision_m(y_true, y_pred)\n",
        "    recall = recall_m(y_true, y_pred)\n",
        "    return 2*((precision*recall)/(precision+recall+K.epsilon()))\n",
        "\n",
        "# compile the model\n",
        "price_predictor.compile(optimizer='adam', loss='binary_crossentropy', metrics=['acc',f1_m,precision_m, recall_m])\n",
        "\n",
        "# fit the model\n",
        "history = price_predictor.fit(X_train, y_train, validation_split=0.3, epochs=10, verbose=0)\n",
        "\n",
        "# evaluate the model\n",
        "loss, accuracy, f1_score, precision, recall = price_predictor.evaluate(X_test, y_test, verbose=0)"
      ],
      "execution_count": 0,
      "outputs": [
        {
          "output_type": "stream",
          "text": [
            "WARNING:tensorflow:From /usr/local/lib/python3.6/dist-packages/keras/backend/tensorflow_backend.py:3657: The name tf.log is deprecated. Please use tf.math.log instead.\n",
            "\n",
            "WARNING:tensorflow:From /usr/local/lib/python3.6/dist-packages/tensorflow_core/python/ops/nn_impl.py:183: where (from tensorflow.python.ops.array_ops) is deprecated and will be removed in a future version.\n",
            "Instructions for updating:\n",
            "Use tf.where in 2.0, which has the same broadcast rule as np.where\n"
          ],
          "name": "stdout"
        }
      ]
    },
    {
      "cell_type": "code",
      "metadata": {
        "id": "uRnf1Fr1FGg4",
        "colab_type": "code",
        "colab": {}
      },
      "source": [
        "price_predictor.compile(loss='binary_crossentropy',\n",
        "              optimizer='rmsprop',\n",
        "              metrics=['accuracy'])"
      ],
      "execution_count": 0,
      "outputs": []
    },
    {
      "cell_type": "code",
      "metadata": {
        "id": "a0ET7_YlG25J",
        "colab_type": "code",
        "outputId": "1dcbe31e-c0b9-4272-a3ab-953e33d4b271",
        "colab": {
          "base_uri": "https://localhost:8080/",
          "height": 52
        }
      },
      "source": [
        "score_Keras = price_predictor.evaluate(X_test, y_test, batch_size=200)\n",
        "print('accuracy on validatoin data:'+str(score_Keras))"
      ],
      "execution_count": 0,
      "outputs": [
        {
          "output_type": "stream",
          "text": [
            "587/587 [==============================] - 0s 217us/step\n",
            "accuracy on validatoin data:[-235412.61970293868, 0.0]\n"
          ],
          "name": "stdout"
        }
      ]
    },
    {
      "cell_type": "code",
      "metadata": {
        "id": "iuR5EBCnIteO",
        "colab_type": "code",
        "colab": {}
      },
      "source": [
        ""
      ],
      "execution_count": 0,
      "outputs": []
    }
  ]
}